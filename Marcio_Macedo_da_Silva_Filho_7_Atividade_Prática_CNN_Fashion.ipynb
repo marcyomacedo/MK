{
  "nbformat": 4,
  "nbformat_minor": 0,
  "metadata": {
    "colab": {
      "name": "Marcio Macedo da Silva Filho - 7_Atividade_Prática_CNN_Fashion.ipynb",
      "provenance": [],
      "collapsed_sections": [],
      "include_colab_link": true
    },
    "kernelspec": {
      "name": "python3",
      "display_name": "Python 3"
    }
  },
  "cells": [
    {
      "cell_type": "markdown",
      "metadata": {
        "id": "view-in-github",
        "colab_type": "text"
      },
      "source": [
        "<a href=\"https://colab.research.google.com/github/marcyomacedo/MK/blob/master/Marcio_Macedo_da_Silva_Filho_7_Atividade_Pr%C3%A1tica_CNN_Fashion.ipynb\" target=\"_parent\"><img src=\"https://colab.research.google.com/assets/colab-badge.svg\" alt=\"Open In Colab\"/></a>"
      ]
    },
    {
      "cell_type": "markdown",
      "metadata": {
        "id": "A9goqCs8zjU3"
      },
      "source": [
        "# Atividade Prática Redes Neurais Fashion (com CNN)\n",
        "\n",
        "O objetivo desta prática é fazer com que vocês tenham um contato mínimo com Redes Neurais (numa perspectiva prática) e com um problema de classificação que exige um pouco mais de processamento. Além disso, desejo que vocês possam se atentar à formas de realizar plots (gráficos) mais interessantes para comprar resultados em projetos de classificação.\n",
        "\n",
        "O Projeto está utilizando o conjunto de dados (dataset) chamado **MNIST**, que classifica dígitos manuscritos já digitalizados. O objetivo é acompanhar cada trecho do código. Vocês deverão:\n",
        "\n",
        "1. Executar cada célula,\n",
        "2. Ver os resultados, e então\n",
        "3. Fazer a alteração do conjunto de dados para o **FASHION MINST** \n",
        "4. UTILIZAR CNN\n",
        "\n",
        "Este dataset FASHION MINST, é um dataset de imagens de roupas e artigos de uso pessoal.\n",
        "\n",
        "A prática se divide em seis (6) etapas: Exploração dos Dados, Aplicação de pré-processamento simples, Contrução do modelo, Trainamento, Avaliação do desempenho e, por fim, a realização de predições, ou seja seu uso."
      ]
    },
    {
      "cell_type": "markdown",
      "metadata": {
        "id": "t6vnZcPOKOvf"
      },
      "source": [
        "## Etapa 1 - Obtenção e Exploração dos Dados"
      ]
    },
    {
      "cell_type": "code",
      "metadata": {
        "id": "XU5mYVqOyrYe"
      },
      "source": [
        "# carregando as bibliotecas essenciais\n",
        "\n",
        "# TensorFlow e tf.keras\n",
        "import tensorflow as tf\n",
        "from tensorflow import keras\n",
        "\n",
        "# Outras bibliotecas auxiliares\n",
        "import numpy as np\n",
        "import matplotlib.pyplot as plt"
      ],
      "execution_count": null,
      "outputs": []
    },
    {
      "cell_type": "code",
      "metadata": {
        "id": "c8MdaeKxyklp"
      },
      "source": [
        "# carregando o data set MNIST\n",
        "mnist = keras.datasets.mnist\n",
        "\n",
        "(train_images, train_labels), (test_images, test_labels) = mnist.load_data()"
      ],
      "execution_count": null,
      "outputs": []
    },
    {
      "cell_type": "markdown",
      "metadata": {
        "id": "qo28CrRq0HKW"
      },
      "source": [
        "O comando anterior faz o download e carrega um conjunto de imagens que representam dígitos manuscritos. Uma descrição maior sobre o dataset pode ser obtida no seguinte endereço: \n",
        "\n",
        "*   https://keras.io/api/datasets/mnist/\n",
        "*   http://yann.lecun.com/exdb/mnist/\n",
        "\n",
        "De forma resumida o dataset é composto de 60 mil imagens de treinamento e de 10 mil imagens de teste. Cada imagem possuí 28x28 pixels e são armazenadas em formato de matrizes de 28x28 linhas e colunas em escala de cinza.\n",
        "\n",
        "Enquanto as variáveis (train, test)_images armazenam as os valores dos pixels, as variáveis (train, test)_labels armazenam as classes a que pertecem. Neste caso o número associado ao dígito."
      ]
    },
    {
      "cell_type": "code",
      "metadata": {
        "id": "ptKNyCcUpCpQ"
      },
      "source": [
        "# criando uma variável auxiliar para os gráficos com os nomes das classes\n",
        "class_names = ['zero', 'um', 'dois', 'três', 'quatro',\n",
        "               'cinco', 'seis', 'sete', 'oito', 'nove']"
      ],
      "execution_count": null,
      "outputs": []
    },
    {
      "cell_type": "code",
      "metadata": {
        "id": "5tqat50R0EgC",
        "colab": {
          "base_uri": "https://localhost:8080/"
        },
        "outputId": "063afd18-819c-471a-f151-3e9d79bd27b9"
      },
      "source": [
        "# explorando informações sobre os dados\n",
        "# formato dos dados de entrada para treinamento\n",
        "print(f\"formato dos dados: {train_images.shape}\")\n",
        "\n",
        "# tamanho da quantidade de dados\n",
        "print(f\"tamanho do dataset, treino: {len(train_labels)} e teste: {len(test_labels)}\")\n",
        "\n",
        "# mostrando os valores únicos presente no vetor de classificação\n",
        "print(f\"valores únicos de y do dataset: {np.unique(train_labels)}\")"
      ],
      "execution_count": null,
      "outputs": [
        {
          "output_type": "stream",
          "text": [
            "formato dos dados: (60000, 28, 28)\n",
            "tamanho do dataset, treino: 60000 e teste: 10000\n",
            "valores únicos de y do dataset: [0 1 2 3 4 5 6 7 8 9]\n"
          ],
          "name": "stdout"
        }
      ]
    },
    {
      "cell_type": "markdown",
      "metadata": {
        "id": "WU54aFnk-Lk-"
      },
      "source": [
        "## Etapa 2 - Processamento inicial dos dados\n",
        "\n",
        "Nessa etapa, vamos vizualizar um exemplo de imagem, transformá-la em um tipo numérico normalizando os dados entre valores [0,1] e exibir um cojunto de exemplos como um grid de imagens."
      ]
    },
    {
      "cell_type": "code",
      "metadata": {
        "id": "hYV2fsovsZZ7",
        "colab": {
          "base_uri": "https://localhost:8080/",
          "height": 265
        },
        "outputId": "0d5e0df1-dfac-4a66-c83b-748017a575b8"
      },
      "source": [
        "# criando uma vizualização com os dados antes da normalização\n",
        "plt.figure()\n",
        "plt.imshow(train_images[0])\n",
        "plt.colorbar()\n",
        "plt.grid(False)\n",
        "plt.show()"
      ],
      "execution_count": null,
      "outputs": [
        {
          "output_type": "display_data",
          "data": {
            "image/png": "[encoded data removed]",
            "text/plain": [
              "<Figure size 432x288 with 2 Axes>"
            ]
          },
          "metadata": {
            "tags": [],
            "needs_background": "light"
          }
        }
      ]
    },
    {
      "cell_type": "code",
      "metadata": {
        "id": "n6Zsp2kE-xU0",
        "colab": {
          "base_uri": "https://localhost:8080/"
        },
        "outputId": "c50e481b-4fd1-4366-bece-b9e95993913d"
      },
      "source": [
        "# Para que a rede neural aprenda mais rápido, assim como fizemos em alguns \n",
        "# exemplos do scikit-learn, é necessário normalizar a imagem entre valores de [0, 1]\n",
        "\n",
        "print(f\"exemplo de dado antes do procesamento: {train_images[0, 5, :]}\")\n",
        "\n",
        "train_images = train_images / 255.0\n",
        "\n",
        "test_images = test_images / 255.0\n",
        "\n",
        "print(f\"exemplo de dado após o procesamento: {train_images[0, 5, :]}\")"
      ],
      "execution_count": null,
      "outputs": [
        {
          "output_type": "stream",
          "text": [
            "exemplo de dado antes do procesamento: [  0   0   0   0   0   0   0   0   0   0   0   0   3  18  18  18 126 136\n",
            " 175  26 166 255 247 127   0   0   0   0]\n",
            "exemplo de dado após o procesamento: [0.         0.         0.         0.         0.         0.\n",
            " 0.         0.         0.         0.         0.         0.\n",
            " 0.01176471 0.07058824 0.07058824 0.07058824 0.49411765 0.53333333\n",
            " 0.68627451 0.10196078 0.65098039 1.         0.96862745 0.49803922\n",
            " 0.         0.         0.         0.        ]\n"
          ],
          "name": "stdout"
        }
      ]
    },
    {
      "cell_type": "code",
      "metadata": {
        "id": "s8Y6I3e__fz1",
        "colab": {
          "base_uri": "https://localhost:8080/",
          "height": 589
        },
        "outputId": "a694cfbf-de43-4c51-feb5-19d1870b79ad"
      },
      "source": [
        "# criando uma vizualização dos 25 primeiros exemplos contidos no dataset\n",
        "# porém agora na escala de cinza, com cores de 0 a 1\n",
        "\n",
        "plt.figure(figsize=(10,10))\n",
        "for i in range(25):\n",
        "    plt.subplot(5,5,i+1)\n",
        "    plt.xticks([])   # retira as marcações de x e y \n",
        "    plt.yticks([])\n",
        "    plt.grid(False)  # retira as linhas do grid\n",
        "    plt.imshow(train_images[i], cmap=plt.cm.binary)\n",
        "    plt.xlabel(class_names[train_labels[i]])   # adiciona os nomes das classes (nomes dos digitos)\n",
        "plt.show()"
      ],
      "execution_count": null,
      "outputs": [
        {
          "output_type": "display_data",
          "data": {
            "image/png": "[encoded data removed]",
            "text/plain": [
              "<Figure size 720x720 with 25 Axes>"
            ]
          },
          "metadata": {
            "tags": []
          }
        }
      ]
    },
    {
      "cell_type": "markdown",
      "metadata": {
        "id": "wa9HVFV7AA7X"
      },
      "source": [
        "## 3 - Construindo o Modelo Neural\n",
        "\n",
        "Diferente dos modelos do scikit-learn, no keras é necessário definir um modelo a partir de componentes. Cada rede neural pode ter diferentes tipos de camadas de neurônios e difentes quantidades de neurônios por camada.\n",
        "\n",
        "\n"
      ]
    },
    {
      "cell_type": "code",
      "metadata": {
        "id": "m3Dyxv02A06E"
      },
      "source": [
        "# cria a variável modelo e atribui a ela uma rede neural\n",
        "\n",
        "model = keras.Sequential([\n",
        "    # essa camada transforma os dados do formato 28x28 para 784,1\n",
        "    keras.layers.Flatten(input_shape=(28, 28)),   \n",
        "    \n",
        "    # essa camada tem 128 neurônios \n",
        "    keras.layers.Dense(128, activation='relu'), \n",
        "\n",
        "    # essa tem 10 neurônios, é obrigatório manter 10 porque é exatamente o mesmo número de classes que existe\n",
        "    keras.layers.Dense(10, activation='softmax')  \n",
        "])"
      ],
      "execution_count": null,
      "outputs": []
    },
    {
      "cell_type": "code",
      "metadata": {
        "id": "vhvJqdetBV9I"
      },
      "source": [
        "# agora é necessário 'compilar' (fazer a rede se montar) o modelo\n",
        "model.compile(optimizer='adam',\n",
        "              loss='sparse_categorical_crossentropy',\n",
        "              metrics=['accuracy'])"
      ],
      "execution_count": null,
      "outputs": []
    },
    {
      "cell_type": "markdown",
      "metadata": {
        "id": "eZyt_Ja8BeVo"
      },
      "source": [
        "## 4 - Treinamento do modelo\n",
        "\n",
        "Até então os modelos e problemas que fizemos anteriormente no scikit-learn não demandaram excessivo processamento. Com redes neurais pode ser um pouco diferente, dependendo sobretudo da quantidade de dados e na quantidade de neurônios na arquitetura (quanto mais neurônios maior o tempo necessário)."
      ]
    },
    {
      "cell_type": "code",
      "metadata": {
        "id": "VzgbChKqCKXE",
        "colab": {
          "base_uri": "https://localhost:8080/"
        },
        "outputId": "c6501a95-d0e7-4f98-ceec-010762f1a3d0"
      },
      "source": [
        "# treinamento o modelo (é o mesmo método utilizado no scikit-learn)\n",
        "model.fit(train_images, train_labels, epochs=10)"
      ],
      "execution_count": null,
      "outputs": [
        {
          "output_type": "stream",
          "text": [
            "Epoch 1/10\n",
            "1875/1875 [==============================] - 4s 2ms/step - loss: 0.2579 - accuracy: 0.9250\n",
            "Epoch 2/10\n",
            "1875/1875 [==============================] - 4s 2ms/step - loss: 0.1137 - accuracy: 0.9670\n",
            "Epoch 3/10\n",
            "1875/1875 [==============================] - 4s 2ms/step - loss: 0.0789 - accuracy: 0.9766\n",
            "Epoch 4/10\n",
            "1875/1875 [==============================] - 4s 2ms/step - loss: 0.0584 - accuracy: 0.9823\n",
            "Epoch 5/10\n",
            "1875/1875 [==============================] - 4s 2ms/step - loss: 0.0449 - accuracy: 0.9864\n",
            "Epoch 6/10\n",
            "1875/1875 [==============================] - 4s 2ms/step - loss: 0.0353 - accuracy: 0.9890\n",
            "Epoch 7/10\n",
            "1875/1875 [==============================] - 4s 2ms/step - loss: 0.0285 - accuracy: 0.9914\n",
            "Epoch 8/10\n",
            "1875/1875 [==============================] - 4s 2ms/step - loss: 0.0237 - accuracy: 0.9930\n",
            "Epoch 9/10\n",
            "1875/1875 [==============================] - 4s 2ms/step - loss: 0.0198 - accuracy: 0.9940\n",
            "Epoch 10/10\n",
            "1875/1875 [==============================] - 4s 2ms/step - loss: 0.0168 - accuracy: 0.9946\n"
          ],
          "name": "stdout"
        },
        {
          "output_type": "execute_result",
          "data": {
            "text/plain": [
              "<tensorflow.python.keras.callbacks.History at 0x7f3668e56cd0>"
            ]
          },
          "metadata": {
            "tags": []
          },
          "execution_count": 12
        }
      ]
    },
    {
      "cell_type": "markdown",
      "metadata": {
        "id": "5XMk03K9CSth"
      },
      "source": [
        "## 5 - Avaliação a partir da acurácia\n",
        "\n",
        "O método utilizado para avaliar aqui será a acurácia"
      ]
    },
    {
      "cell_type": "code",
      "metadata": {
        "id": "ScZJds4OCb11",
        "colab": {
          "base_uri": "https://localhost:8080/"
        },
        "outputId": "52ae20e2-e7a6-4242-d426-b83d55cdee06"
      },
      "source": [
        "test_loss, test_acc = model.evaluate(test_images,  test_labels, verbose=2)\n",
        "\n",
        "print(f\"Acurácia do conjunto de teste: {test_acc}\")"
      ],
      "execution_count": null,
      "outputs": [
        {
          "output_type": "stream",
          "text": [
            "313/313 - 0s - loss: 0.0815 - accuracy: 0.9775\n",
            "Acurácia do conjunto de teste: 0.9775000214576721\n"
          ],
          "name": "stdout"
        }
      ]
    },
    {
      "cell_type": "markdown",
      "metadata": {
        "id": "Q_y2I5IICzrG"
      },
      "source": [
        "Para essa estrutura de rede o treinamento gera um bom nível de aprendizagem para esse dataset"
      ]
    },
    {
      "cell_type": "markdown",
      "metadata": {
        "id": "U78iSqC4C53r"
      },
      "source": [
        "## 6 - Fazendo predições, a melhor parte!\n",
        "\n",
        "Nesta sequência de códigos o objetivo é criar duas funções:\n",
        "1. plotar e comparar uma imagem (X) e sua classe (y) dados pelo modelo já previamente treinados\n",
        "2. plotar uma sequência de imagens mostram o valor predito e a imagem do valor real (X)\n",
        "\n",
        "Observem que as barras em azul são valores corretos e em vermelho valores incorretos. Tente ler e entender o que ocorre em cada conjunto de códigos a seguir"
      ]
    },
    {
      "cell_type": "code",
      "metadata": {
        "id": "PN8MhobMDnZy",
        "colab": {
          "base_uri": "https://localhost:8080/"
        },
        "outputId": "10f28fd0-f5e3-4c8e-f1a2-86c7eae83fee"
      },
      "source": [
        "# comando para predizer\n",
        "predictions = model.predict(test_images)\n",
        "\n",
        "print(f\"predições de exemplo: {predictions[0]}\")"
      ],
      "execution_count": null,
      "outputs": [
        {
          "output_type": "stream",
          "text": [
            "predições de exemplo: [7.8030499e-10 3.7712673e-09 2.9168592e-07 2.8703685e-06 6.6915732e-14\n",
            " 9.4617696e-11 2.7139986e-18 9.9999630e-01 4.4050652e-09 5.3514759e-07]\n"
          ],
          "name": "stdout"
        }
      ]
    },
    {
      "cell_type": "markdown",
      "metadata": {
        "id": "ZMxdTOAZDyJR"
      },
      "source": [
        "O código anterior mostra que a saída predita tem 10 valores, a posição com o maior valor indica o que o modelo acredita ser o valor de entrada de (X). Neste caso, para o valor de teste, ele acredita que seja o índice 7 (corresponde ao dígito 8), pois é índice com maior saída."
      ]
    },
    {
      "cell_type": "code",
      "metadata": {
        "id": "QDkth8YgEDVt",
        "colab": {
          "base_uri": "https://localhost:8080/"
        },
        "outputId": "9e4526d1-83ad-411f-ca53-8bce20161f3d"
      },
      "source": [
        "# checando o índice de maior valor\n",
        "np.argmax(predictions[0])"
      ],
      "execution_count": null,
      "outputs": [
        {
          "output_type": "execute_result",
          "data": {
            "text/plain": [
              "7"
            ]
          },
          "metadata": {
            "tags": []
          },
          "execution_count": 15
        }
      ]
    },
    {
      "cell_type": "code",
      "metadata": {
        "id": "YNL7BQnkEQWJ",
        "colab": {
          "base_uri": "https://localhost:8080/"
        },
        "outputId": "dc96efd6-85fb-47e9-9b91-e6d45ce298f5"
      },
      "source": [
        "# resultado real diz que ele acertou\n",
        "test_labels[0]"
      ],
      "execution_count": null,
      "outputs": [
        {
          "output_type": "execute_result",
          "data": {
            "text/plain": [
              "7"
            ]
          },
          "metadata": {
            "tags": []
          },
          "execution_count": 16
        }
      ]
    },
    {
      "cell_type": "markdown",
      "metadata": {
        "id": "hOpodGJNEV06"
      },
      "source": [
        "Agora são definidas duas funções para melhor enxergar o resultado."
      ]
    },
    {
      "cell_type": "code",
      "metadata": {
        "id": "Qm4KS7o3EZaH"
      },
      "source": [
        "# função para plotar a imagem\n",
        "def plot_image(i, predictions_array, true_label, img):\n",
        "  predictions_array, true_label, img = predictions_array[i], true_label[i], img[i]\n",
        "  plt.grid(False)\n",
        "  plt.xticks([])\n",
        "  plt.yticks([])\n",
        "\n",
        "  plt.imshow(img, cmap=plt.cm.binary)\n",
        "\n",
        "  predicted_label = np.argmax(predictions_array)\n",
        "  if predicted_label == true_label:\n",
        "    color = 'blue'\n",
        "  else:\n",
        "    color = 'red'\n",
        "\n",
        "  plt.xlabel(\"{} {:2.0f}% ({})\".format(class_names[predicted_label],\n",
        "                                100*np.max(predictions_array),\n",
        "                                class_names[true_label]),\n",
        "                                color=color)\n",
        "\n",
        "# função para plotar um gráfico em barras com os valores preditos (saída y do modelo)\n",
        "def plot_value_array(i, predictions_array, true_label):\n",
        "  predictions_array, true_label = predictions_array[i], true_label[i]\n",
        "  plt.grid(False)\n",
        "  plt.xticks([])\n",
        "  plt.yticks([])\n",
        "  thisplot = plt.bar(range(10), predictions_array, color=\"#777777\")\n",
        "  plt.ylim([0, 1])\n",
        "  predicted_label = np.argmax(predictions_array)\n",
        "\n",
        "  thisplot[predicted_label].set_color('red')\n",
        "  thisplot[true_label].set_color('blue')\n"
      ],
      "execution_count": null,
      "outputs": []
    },
    {
      "cell_type": "code",
      "metadata": {
        "id": "YpapiBcUEkv7",
        "colab": {
          "base_uri": "https://localhost:8080/",
          "height": 203
        },
        "outputId": "72a8e259-3312-4d55-9953-d361b3da4ec8"
      },
      "source": [
        "# usando o código anterior para um exemplo\n",
        "i = 0\n",
        "plt.figure(figsize=(6,3))\n",
        "plt.subplot(1,2,1)\n",
        "plot_image(i, predictions, test_labels, test_images)\n",
        "plt.subplot(1,2,2)\n",
        "plot_value_array(i, predictions,  test_labels)\n",
        "plt.show()"
      ],
      "execution_count": null,
      "outputs": [
        {
          "output_type": "display_data",
          "data": {
            "image/png": "[encoded data removed]",
            "text/plain": [
              "<Figure size 432x216 with 2 Axes>"
            ]
          },
          "metadata": {
            "tags": []
          }
        }
      ]
    },
    {
      "cell_type": "code",
      "metadata": {
        "id": "MwocZ66SEosW",
        "colab": {
          "base_uri": "https://localhost:8080/",
          "height": 203
        },
        "outputId": "854fc3ca-0cbd-41da-c22a-2737af816ee2"
      },
      "source": [
        "# um segundo exemplo impreciso\n",
        "i = 115\n",
        "plt.figure(figsize=(6,3))\n",
        "plt.subplot(1,2,1)\n",
        "plot_image(i, predictions, test_labels, test_images)\n",
        "plt.subplot(1,2,2)\n",
        "plot_value_array(i, predictions,  test_labels)\n",
        "plt.show()"
      ],
      "execution_count": null,
      "outputs": [
        {
          "output_type": "display_data",
          "data": {
            "image/png": "[encoded data removed]",
            "text/plain": [
              "<Figure size 432x216 with 2 Axes>"
            ]
          },
          "metadata": {
            "tags": []
          }
        }
      ]
    },
    {
      "cell_type": "code",
      "metadata": {
        "id": "7RaLX1o7FCYf",
        "colab": {
          "base_uri": "https://localhost:8080/",
          "height": 480
        },
        "outputId": "e75cfb6e-61b7-44e3-d322-ba43eb64e748"
      },
      "source": [
        "# um exemplo com mais plots de uma só vez\n",
        "# predições corretas em azul e as incorretas de vermelho\n",
        "\n",
        "num_rows = 4\n",
        "num_cols = 3\n",
        "num_images = num_rows*num_cols\n",
        "\n",
        "plt.figure(figsize=(2*2*num_cols, 2*num_rows))\n",
        "for i in range(num_images):\n",
        "  plt.subplot(num_rows, 2*num_cols, 2*i+1)\n",
        "  plot_image(i, predictions, test_labels, test_images)\n",
        "  plt.subplot(num_rows, 2*num_cols, 2*i+2)\n",
        "  plot_value_array(i, predictions, test_labels)\n",
        "plt.show()"
      ],
      "execution_count": null,
      "outputs": [
        {
          "output_type": "display_data",
          "data": {
            "image/png": "[encoded data removed]",
            "text/plain": [
              "<Figure size 864x576 with 24 Axes>"
            ]
          },
          "metadata": {
            "tags": []
          }
        }
      ]
    },
    {
      "cell_type": "markdown",
      "metadata": {
        "id": "ExdyIUQuy_uR"
      },
      "source": [
        "## Útima etapa: Alterar o código para funcionar com o dataset Fashion MINST com CNN\n",
        "\n",
        "Como etapa de trabalho, vocês precisarão alterar o código para funcionar com o Fashion MINST. O código a seguir pode auxiliar para baixar o dataset.\n",
        "\n",
        "```\n",
        "fashion_mnist = keras.datasets.fashion_mnist\n",
        "\n",
        "(train_images, train_labels), (test_images, test_labels) = fashion_mnist.load_data()\n",
        "```\n",
        "\n",
        "lembrem-se de criar a variável auxiliar para nomear as classes:\n",
        "\n",
        "```\n",
        "class_names = ['camiseta/top', 'calça', 'suéter', 'vestido', 'casaco', sandália', 'camisa', 'tênis', 'bola', 'bota']\n",
        "```\n",
        "\n",
        "Experimentem mudar os valores de neurônios na primeira camada Densa, mudando o valor de 128 para 10, 20, 60 e 300 e veja o que acontece ao resultado do modelo.\n",
        "\n",
        "\n",
        "\n",
        "```\n",
        "model = keras.Sequential([\n",
        "    # COLOCAR REDE CNN AQUI CONV2D\n",
        "])\n",
        "\n",
        "```"
      ]
    },
    {
      "cell_type": "markdown",
      "metadata": {
        "id": "jpOg_kPF1-_6"
      },
      "source": [
        "**Carregamento do Datashet Fashion MNIST**"
      ]
    },
    {
      "cell_type": "code",
      "metadata": {
        "id": "TpRdoFeJMDgz"
      },
      "source": [
        "import numpy as np\n",
        "from tensorflow import keras\n",
        "from tensorflow.keras import layers"
      ],
      "execution_count": null,
      "outputs": []
    },
    {
      "cell_type": "code",
      "metadata": {
        "id": "SwZtI-_C2CM3"
      },
      "source": [
        "fashion_mnist = keras.datasets.fashion_mnist\n",
        "(train_images, train_labels), (test_images, test_labels) = fashion_mnist.load_data()"
      ],
      "execution_count": null,
      "outputs": []
    },
    {
      "cell_type": "markdown",
      "metadata": {
        "id": "VschN8KG2KRV"
      },
      "source": [
        "**Visualização dos dados**"
      ]
    },
    {
      "cell_type": "code",
      "metadata": {
        "id": "8XBa64WY2SWq",
        "colab": {
          "base_uri": "https://localhost:8080/"
        },
        "outputId": "1aa61bf9-dbdb-4f44-8f5f-718c4496111a"
      },
      "source": [
        "train_images[1]"
      ],
      "execution_count": null,
      "outputs": [
        {
          "output_type": "execute_result",
          "data": {
            "text/plain": [
              "array([[  0,   0,   0,   0,   0,   1,   0,   0,   0,   0,  41, 188, 103,\n",
              "         54,  48,  43,  87, 168, 133,  16,   0,   0,   0,   0,   0,   0,\n",
              "          0,   0],\n",
              "       [  0,   0,   0,   1,   0,   0,   0,  49, 136, 219, 216, 228, 236,\n",
              "        255, 255, 255, 255, 217, 215, 254, 231, 160,  45,   0,   0,   0,\n",
              "          0,   0],\n",
              "       [  0,   0,   0,   0,   0,  14, 176, 222, 224, 212, 203, 198, 196,\n",
              "        200, 215, 204, 202, 201, 201, 201, 209, 218, 224, 164,   0,   0,\n",
              "          0,   0],\n",
              "       [  0,   0,   0,   0,   0, 188, 219, 200, 198, 202, 198, 199, 199,\n",
              "        201, 196, 198, 198, 200, 200, 200, 200, 201, 200, 225,  41,   0,\n",
              "          0,   0],\n",
              "       [  0,   0,   0,   0,  51, 219, 199, 203, 203, 212, 238, 248, 250,\n",
              "        245, 249, 246, 247, 252, 248, 235, 207, 203, 203, 222, 140,   0,\n",
              "          0,   0],\n",
              "       [  0,   0,   0,   0, 116, 226, 206, 204, 207, 204, 101,  75,  47,\n",
              "         73,  48,  50,  45,  51,  63, 113, 222, 202, 206, 220, 224,   0,\n",
              "          0,   0],\n",
              "       [  0,   0,   0,   0, 200, 222, 209, 203, 215, 200,   0,  70,  98,\n",
              "          0, 103,  59,  68,  71,  49,   0, 219, 206, 214, 210, 250,  38,\n",
              "          0,   0],\n",
              "       [  0,   0,   0,   0, 247, 218, 212, 210, 215, 214,   0, 254, 243,\n",
              "        139, 255, 174, 251, 255, 205,   0, 215, 217, 214, 208, 220,  95,\n",
              "          0,   0],\n",
              "       [  0,   0,   0,  45, 226, 214, 214, 215, 224, 205,   0,  42,  35,\n",
              "         60,  16,  17,  12,  13,  70,   0, 189, 216, 212, 206, 212, 156,\n",
              "          0,   0],\n",
              "       [  0,   0,   0, 164, 235, 214, 211, 220, 216, 201,  52,  71,  89,\n",
              "         94,  83,  78,  70,  76,  92,  87, 206, 207, 222, 213, 219, 208,\n",
              "          0,   0],\n",
              "       [  0,   0,   0, 106, 187, 223, 237, 248, 211, 198, 252, 250, 248,\n",
              "        245, 248, 252, 253, 250, 252, 239, 201, 212, 225, 215, 193, 113,\n",
              "          0,   0],\n",
              "       [  0,   0,   0,   0,   0,  17,  54, 159, 222, 193, 208, 192, 197,\n",
              "        200, 200, 200, 200, 201, 203, 195, 210, 165,   0,   0,   0,   0,\n",
              "          0,   0],\n",
              "       [  0,   0,   0,   0,   0,   0,   0,  47, 225, 192, 214, 203, 206,\n",
              "        204, 204, 205, 206, 204, 212, 197, 218, 107,   0,   0,   0,   0,\n",
              "          0,   0],\n",
              "       [  0,   0,   0,   0,   1,   6,   0,  46, 212, 195, 212, 202, 206,\n",
              "        205, 204, 205, 206, 204, 212, 200, 218,  91,   0,   3,   1,   0,\n",
              "          0,   0],\n",
              "       [  0,   0,   0,   0,   0,   1,   0,  11, 197, 199, 205, 202, 205,\n",
              "        206, 204, 205, 207, 204, 205, 205, 218,  77,   0,   5,   0,   0,\n",
              "          0,   0],\n",
              "       [  0,   0,   0,   0,   0,   3,   0,   2, 191, 198, 201, 205, 206,\n",
              "        205, 205, 206, 209, 206, 199, 209, 219,  74,   0,   5,   0,   0,\n",
              "          0,   0],\n",
              "       [  0,   0,   0,   0,   0,   2,   0,   0, 188, 197, 200, 207, 207,\n",
              "        204, 207, 207, 210, 208, 198, 207, 221,  72,   0,   4,   0,   0,\n",
              "          0,   0],\n",
              "       [  0,   0,   0,   0,   0,   2,   0,   0, 215, 198, 203, 206, 208,\n",
              "        205, 207, 207, 210, 208, 200, 202, 222,  75,   0,   4,   0,   0,\n",
              "          0,   0],\n",
              "       [  0,   0,   0,   0,   0,   1,   0,   0, 212, 198, 209, 206, 209,\n",
              "        206, 208, 207, 211, 206, 205, 198, 221,  80,   0,   3,   0,   0,\n",
              "          0,   0],\n",
              "       [  0,   0,   0,   0,   0,   1,   0,   0, 204, 201, 205, 208, 207,\n",
              "        205, 211, 205, 210, 210, 209, 195, 221,  96,   0,   3,   0,   0,\n",
              "          0,   0],\n",
              "       [  0,   0,   0,   0,   0,   1,   0,   0, 202, 201, 205, 209, 207,\n",
              "        205, 213, 206, 210, 209, 210, 194, 217, 105,   0,   2,   0,   0,\n",
              "          0,   0],\n",
              "       [  0,   0,   0,   0,   0,   1,   0,   0, 204, 204, 205, 208, 207,\n",
              "        205, 215, 207, 210, 208, 211, 193, 213, 115,   0,   2,   0,   0,\n",
              "          0,   0],\n",
              "       [  0,   0,   0,   0,   0,   0,   0,   0, 204, 207, 207, 208, 206,\n",
              "        206, 215, 210, 210, 207, 212, 195, 210, 118,   0,   2,   0,   0,\n",
              "          0,   0],\n",
              "       [  0,   0,   0,   0,   0,   1,   0,   0, 198, 208, 208, 208, 204,\n",
              "        207, 212, 212, 210, 207, 211, 196, 207, 121,   0,   1,   0,   0,\n",
              "          0,   0],\n",
              "       [  0,   0,   0,   0,   0,   1,   0,   0, 198, 210, 207, 208, 206,\n",
              "        209, 213, 212, 211, 207, 210, 197, 207, 124,   0,   1,   0,   0,\n",
              "          0,   0],\n",
              "       [  0,   0,   0,   0,   0,   0,   0,   0, 172, 210, 203, 201, 199,\n",
              "        204, 207, 205, 204, 201, 205, 197, 206, 127,   0,   0,   0,   0,\n",
              "          0,   0],\n",
              "       [  0,   0,   0,   0,   0,   0,   0,   0, 188, 221, 214, 234, 236,\n",
              "        238, 244, 244, 244, 240, 243, 214, 224, 162,   0,   2,   0,   0,\n",
              "          0,   0],\n",
              "       [  0,   0,   0,   0,   0,   1,   0,   0, 139, 146, 130, 135, 135,\n",
              "        137, 125, 124, 125, 121, 119, 114, 130,  76,   0,   0,   0,   0,\n",
              "          0,   0]], dtype=uint8)"
            ]
          },
          "metadata": {
            "tags": []
          },
          "execution_count": 31
        }
      ]
    },
    {
      "cell_type": "code",
      "metadata": {
        "id": "-aELWq5I5dXg"
      },
      "source": [
        "# variavel auxiliar\n",
        "class_names = ['camiseta/top', 'calça', 'suéter', 'vestido', 'casaco', 'sandália', 'camisa', 'tênis', 'bolsa', 'bota']"
      ],
      "execution_count": null,
      "outputs": []
    },
    {
      "cell_type": "code",
      "metadata": {
        "id": "Dqopw4HCXDdP",
        "colab": {
          "base_uri": "https://localhost:8080/"
        },
        "outputId": "cacb37d4-6e12-4382-f794-7a1bde4cb419"
      },
      "source": [
        "# criando uma vizualização com os dados antes da normalização\n",
        "print(f\"formato dos dados: {train_images.shape}\")\n",
        "\n",
        "print(f\"tamanho do dataset, treino: {len(train_labels)} e teste: {len(test_labels)}\")\n",
        "\n",
        "print(f\"valores únicos de y do dataset: {np.unique(train_labels)}\")"
      ],
      "execution_count": null,
      "outputs": [
        {
          "output_type": "stream",
          "text": [
            "formato dos dados: (60000, 28, 28)\n",
            "tamanho do dataset, treino: 60000 e teste: 10000\n",
            "valores únicos de y do dataset: [0 1 2 3 4 5 6 7 8 9]\n"
          ],
          "name": "stdout"
        }
      ]
    },
    {
      "cell_type": "code",
      "metadata": {
        "id": "OEc3BVi0Uj5Y"
      },
      "source": [
        "train_images = train_images / 255.0\n",
        "test_images = test_images / 255.0"
      ],
      "execution_count": null,
      "outputs": []
    },
    {
      "cell_type": "code",
      "metadata": {
        "id": "X1xhmF1Iu_Ut",
        "colab": {
          "base_uri": "https://localhost:8080/"
        },
        "outputId": "01e8748e-f7bb-457a-8fae-1b9695ff2b7a"
      },
      "source": [
        "train_images[1]"
      ],
      "execution_count": null,
      "outputs": [
        {
          "output_type": "execute_result",
          "data": {
            "text/plain": [
              "array([[0.        , 0.        , 0.        , 0.        , 0.        ,\n",
              "        0.00392157, 0.        , 0.        , 0.        , 0.        ,\n",
              "        0.16078431, 0.7372549 , 0.40392157, 0.21176471, 0.18823529,\n",
              "        0.16862745, 0.34117647, 0.65882353, 0.52156863, 0.0627451 ,\n",
              "        0.        , 0.        , 0.        , 0.        , 0.        ,\n",
              "        0.        , 0.        , 0.        ],\n",
              "       [0.        , 0.        , 0.        , 0.00392157, 0.        ,\n",
              "        0.        , 0.        , 0.19215686, 0.53333333, 0.85882353,\n",
              "        0.84705882, 0.89411765, 0.9254902 , 1.        , 1.        ,\n",
              "        1.        , 1.        , 0.85098039, 0.84313725, 0.99607843,\n",
              "        0.90588235, 0.62745098, 0.17647059, 0.        , 0.        ,\n",
              "        0.        , 0.        , 0.        ],\n",
              "       [0.        , 0.        , 0.        , 0.        , 0.        ,\n",
              "        0.05490196, 0.69019608, 0.87058824, 0.87843137, 0.83137255,\n",
              "        0.79607843, 0.77647059, 0.76862745, 0.78431373, 0.84313725,\n",
              "        0.8       , 0.79215686, 0.78823529, 0.78823529, 0.78823529,\n",
              "        0.81960784, 0.85490196, 0.87843137, 0.64313725, 0.        ,\n",
              "        0.        , 0.        , 0.        ],\n",
              "       [0.        , 0.        , 0.        , 0.        , 0.        ,\n",
              "        0.7372549 , 0.85882353, 0.78431373, 0.77647059, 0.79215686,\n",
              "        0.77647059, 0.78039216, 0.78039216, 0.78823529, 0.76862745,\n",
              "        0.77647059, 0.77647059, 0.78431373, 0.78431373, 0.78431373,\n",
              "        0.78431373, 0.78823529, 0.78431373, 0.88235294, 0.16078431,\n",
              "        0.        , 0.        , 0.        ],\n",
              "       [0.        , 0.        , 0.        , 0.        , 0.2       ,\n",
              "        0.85882353, 0.78039216, 0.79607843, 0.79607843, 0.83137255,\n",
              "        0.93333333, 0.97254902, 0.98039216, 0.96078431, 0.97647059,\n",
              "        0.96470588, 0.96862745, 0.98823529, 0.97254902, 0.92156863,\n",
              "        0.81176471, 0.79607843, 0.79607843, 0.87058824, 0.54901961,\n",
              "        0.        , 0.        , 0.        ],\n",
              "       [0.        , 0.        , 0.        , 0.        , 0.45490196,\n",
              "        0.88627451, 0.80784314, 0.8       , 0.81176471, 0.8       ,\n",
              "        0.39607843, 0.29411765, 0.18431373, 0.28627451, 0.18823529,\n",
              "        0.19607843, 0.17647059, 0.2       , 0.24705882, 0.44313725,\n",
              "        0.87058824, 0.79215686, 0.80784314, 0.8627451 , 0.87843137,\n",
              "        0.        , 0.        , 0.        ],\n",
              "       [0.        , 0.        , 0.        , 0.        , 0.78431373,\n",
              "        0.87058824, 0.81960784, 0.79607843, 0.84313725, 0.78431373,\n",
              "        0.        , 0.2745098 , 0.38431373, 0.        , 0.40392157,\n",
              "        0.23137255, 0.26666667, 0.27843137, 0.19215686, 0.        ,\n",
              "        0.85882353, 0.80784314, 0.83921569, 0.82352941, 0.98039216,\n",
              "        0.14901961, 0.        , 0.        ],\n",
              "       [0.        , 0.        , 0.        , 0.        , 0.96862745,\n",
              "        0.85490196, 0.83137255, 0.82352941, 0.84313725, 0.83921569,\n",
              "        0.        , 0.99607843, 0.95294118, 0.54509804, 1.        ,\n",
              "        0.68235294, 0.98431373, 1.        , 0.80392157, 0.        ,\n",
              "        0.84313725, 0.85098039, 0.83921569, 0.81568627, 0.8627451 ,\n",
              "        0.37254902, 0.        , 0.        ],\n",
              "       [0.        , 0.        , 0.        , 0.17647059, 0.88627451,\n",
              "        0.83921569, 0.83921569, 0.84313725, 0.87843137, 0.80392157,\n",
              "        0.        , 0.16470588, 0.1372549 , 0.23529412, 0.0627451 ,\n",
              "        0.06666667, 0.04705882, 0.05098039, 0.2745098 , 0.        ,\n",
              "        0.74117647, 0.84705882, 0.83137255, 0.80784314, 0.83137255,\n",
              "        0.61176471, 0.        , 0.        ],\n",
              "       [0.        , 0.        , 0.        , 0.64313725, 0.92156863,\n",
              "        0.83921569, 0.82745098, 0.8627451 , 0.84705882, 0.78823529,\n",
              "        0.20392157, 0.27843137, 0.34901961, 0.36862745, 0.3254902 ,\n",
              "        0.30588235, 0.2745098 , 0.29803922, 0.36078431, 0.34117647,\n",
              "        0.80784314, 0.81176471, 0.87058824, 0.83529412, 0.85882353,\n",
              "        0.81568627, 0.        , 0.        ],\n",
              "       [0.        , 0.        , 0.        , 0.41568627, 0.73333333,\n",
              "        0.8745098 , 0.92941176, 0.97254902, 0.82745098, 0.77647059,\n",
              "        0.98823529, 0.98039216, 0.97254902, 0.96078431, 0.97254902,\n",
              "        0.98823529, 0.99215686, 0.98039216, 0.98823529, 0.9372549 ,\n",
              "        0.78823529, 0.83137255, 0.88235294, 0.84313725, 0.75686275,\n",
              "        0.44313725, 0.        , 0.        ],\n",
              "       [0.        , 0.        , 0.        , 0.        , 0.        ,\n",
              "        0.06666667, 0.21176471, 0.62352941, 0.87058824, 0.75686275,\n",
              "        0.81568627, 0.75294118, 0.77254902, 0.78431373, 0.78431373,\n",
              "        0.78431373, 0.78431373, 0.78823529, 0.79607843, 0.76470588,\n",
              "        0.82352941, 0.64705882, 0.        , 0.        , 0.        ,\n",
              "        0.        , 0.        , 0.        ],\n",
              "       [0.        , 0.        , 0.        , 0.        , 0.        ,\n",
              "        0.        , 0.        , 0.18431373, 0.88235294, 0.75294118,\n",
              "        0.83921569, 0.79607843, 0.80784314, 0.8       , 0.8       ,\n",
              "        0.80392157, 0.80784314, 0.8       , 0.83137255, 0.77254902,\n",
              "        0.85490196, 0.41960784, 0.        , 0.        , 0.        ,\n",
              "        0.        , 0.        , 0.        ],\n",
              "       [0.        , 0.        , 0.        , 0.        , 0.00392157,\n",
              "        0.02352941, 0.        , 0.18039216, 0.83137255, 0.76470588,\n",
              "        0.83137255, 0.79215686, 0.80784314, 0.80392157, 0.8       ,\n",
              "        0.80392157, 0.80784314, 0.8       , 0.83137255, 0.78431373,\n",
              "        0.85490196, 0.35686275, 0.        , 0.01176471, 0.00392157,\n",
              "        0.        , 0.        , 0.        ],\n",
              "       [0.        , 0.        , 0.        , 0.        , 0.        ,\n",
              "        0.00392157, 0.        , 0.04313725, 0.77254902, 0.78039216,\n",
              "        0.80392157, 0.79215686, 0.80392157, 0.80784314, 0.8       ,\n",
              "        0.80392157, 0.81176471, 0.8       , 0.80392157, 0.80392157,\n",
              "        0.85490196, 0.30196078, 0.        , 0.01960784, 0.        ,\n",
              "        0.        , 0.        , 0.        ],\n",
              "       [0.        , 0.        , 0.        , 0.        , 0.        ,\n",
              "        0.01176471, 0.        , 0.00784314, 0.74901961, 0.77647059,\n",
              "        0.78823529, 0.80392157, 0.80784314, 0.80392157, 0.80392157,\n",
              "        0.80784314, 0.81960784, 0.80784314, 0.78039216, 0.81960784,\n",
              "        0.85882353, 0.29019608, 0.        , 0.01960784, 0.        ,\n",
              "        0.        , 0.        , 0.        ],\n",
              "       [0.        , 0.        , 0.        , 0.        , 0.        ,\n",
              "        0.00784314, 0.        , 0.        , 0.7372549 , 0.77254902,\n",
              "        0.78431373, 0.81176471, 0.81176471, 0.8       , 0.81176471,\n",
              "        0.81176471, 0.82352941, 0.81568627, 0.77647059, 0.81176471,\n",
              "        0.86666667, 0.28235294, 0.        , 0.01568627, 0.        ,\n",
              "        0.        , 0.        , 0.        ],\n",
              "       [0.        , 0.        , 0.        , 0.        , 0.        ,\n",
              "        0.00784314, 0.        , 0.        , 0.84313725, 0.77647059,\n",
              "        0.79607843, 0.80784314, 0.81568627, 0.80392157, 0.81176471,\n",
              "        0.81176471, 0.82352941, 0.81568627, 0.78431373, 0.79215686,\n",
              "        0.87058824, 0.29411765, 0.        , 0.01568627, 0.        ,\n",
              "        0.        , 0.        , 0.        ],\n",
              "       [0.        , 0.        , 0.        , 0.        , 0.        ,\n",
              "        0.00392157, 0.        , 0.        , 0.83137255, 0.77647059,\n",
              "        0.81960784, 0.80784314, 0.81960784, 0.80784314, 0.81568627,\n",
              "        0.81176471, 0.82745098, 0.80784314, 0.80392157, 0.77647059,\n",
              "        0.86666667, 0.31372549, 0.        , 0.01176471, 0.        ,\n",
              "        0.        , 0.        , 0.        ],\n",
              "       [0.        , 0.        , 0.        , 0.        , 0.        ,\n",
              "        0.00392157, 0.        , 0.        , 0.8       , 0.78823529,\n",
              "        0.80392157, 0.81568627, 0.81176471, 0.80392157, 0.82745098,\n",
              "        0.80392157, 0.82352941, 0.82352941, 0.81960784, 0.76470588,\n",
              "        0.86666667, 0.37647059, 0.        , 0.01176471, 0.        ,\n",
              "        0.        , 0.        , 0.        ],\n",
              "       [0.        , 0.        , 0.        , 0.        , 0.        ,\n",
              "        0.00392157, 0.        , 0.        , 0.79215686, 0.78823529,\n",
              "        0.80392157, 0.81960784, 0.81176471, 0.80392157, 0.83529412,\n",
              "        0.80784314, 0.82352941, 0.81960784, 0.82352941, 0.76078431,\n",
              "        0.85098039, 0.41176471, 0.        , 0.00784314, 0.        ,\n",
              "        0.        , 0.        , 0.        ],\n",
              "       [0.        , 0.        , 0.        , 0.        , 0.        ,\n",
              "        0.00392157, 0.        , 0.        , 0.8       , 0.8       ,\n",
              "        0.80392157, 0.81568627, 0.81176471, 0.80392157, 0.84313725,\n",
              "        0.81176471, 0.82352941, 0.81568627, 0.82745098, 0.75686275,\n",
              "        0.83529412, 0.45098039, 0.        , 0.00784314, 0.        ,\n",
              "        0.        , 0.        , 0.        ],\n",
              "       [0.        , 0.        , 0.        , 0.        , 0.        ,\n",
              "        0.        , 0.        , 0.        , 0.8       , 0.81176471,\n",
              "        0.81176471, 0.81568627, 0.80784314, 0.80784314, 0.84313725,\n",
              "        0.82352941, 0.82352941, 0.81176471, 0.83137255, 0.76470588,\n",
              "        0.82352941, 0.4627451 , 0.        , 0.00784314, 0.        ,\n",
              "        0.        , 0.        , 0.        ],\n",
              "       [0.        , 0.        , 0.        , 0.        , 0.        ,\n",
              "        0.00392157, 0.        , 0.        , 0.77647059, 0.81568627,\n",
              "        0.81568627, 0.81568627, 0.8       , 0.81176471, 0.83137255,\n",
              "        0.83137255, 0.82352941, 0.81176471, 0.82745098, 0.76862745,\n",
              "        0.81176471, 0.4745098 , 0.        , 0.00392157, 0.        ,\n",
              "        0.        , 0.        , 0.        ],\n",
              "       [0.        , 0.        , 0.        , 0.        , 0.        ,\n",
              "        0.00392157, 0.        , 0.        , 0.77647059, 0.82352941,\n",
              "        0.81176471, 0.81568627, 0.80784314, 0.81960784, 0.83529412,\n",
              "        0.83137255, 0.82745098, 0.81176471, 0.82352941, 0.77254902,\n",
              "        0.81176471, 0.48627451, 0.        , 0.00392157, 0.        ,\n",
              "        0.        , 0.        , 0.        ],\n",
              "       [0.        , 0.        , 0.        , 0.        , 0.        ,\n",
              "        0.        , 0.        , 0.        , 0.6745098 , 0.82352941,\n",
              "        0.79607843, 0.78823529, 0.78039216, 0.8       , 0.81176471,\n",
              "        0.80392157, 0.8       , 0.78823529, 0.80392157, 0.77254902,\n",
              "        0.80784314, 0.49803922, 0.        , 0.        , 0.        ,\n",
              "        0.        , 0.        , 0.        ],\n",
              "       [0.        , 0.        , 0.        , 0.        , 0.        ,\n",
              "        0.        , 0.        , 0.        , 0.7372549 , 0.86666667,\n",
              "        0.83921569, 0.91764706, 0.9254902 , 0.93333333, 0.95686275,\n",
              "        0.95686275, 0.95686275, 0.94117647, 0.95294118, 0.83921569,\n",
              "        0.87843137, 0.63529412, 0.        , 0.00784314, 0.        ,\n",
              "        0.        , 0.        , 0.        ],\n",
              "       [0.        , 0.        , 0.        , 0.        , 0.        ,\n",
              "        0.00392157, 0.        , 0.        , 0.54509804, 0.57254902,\n",
              "        0.50980392, 0.52941176, 0.52941176, 0.5372549 , 0.49019608,\n",
              "        0.48627451, 0.49019608, 0.4745098 , 0.46666667, 0.44705882,\n",
              "        0.50980392, 0.29803922, 0.        , 0.        , 0.        ,\n",
              "        0.        , 0.        , 0.        ]])"
            ]
          },
          "metadata": {
            "tags": []
          },
          "execution_count": 35
        }
      ]
    },
    {
      "cell_type": "code",
      "metadata": {
        "id": "2LBgf6pMxRSX",
        "colab": {
          "base_uri": "https://localhost:8080/"
        },
        "outputId": "17cd5373-99fd-4ce2-fad0-f1a31834c58d"
      },
      "source": [
        "train_images.shape"
      ],
      "execution_count": null,
      "outputs": [
        {
          "output_type": "execute_result",
          "data": {
            "text/plain": [
              "(60000, 28, 28)"
            ]
          },
          "metadata": {
            "tags": []
          },
          "execution_count": 36
        }
      ]
    },
    {
      "cell_type": "code",
      "metadata": {
        "id": "QxOIctgXHBOk",
        "colab": {
          "base_uri": "https://localhost:8080/"
        },
        "outputId": "2044748e-e277-461f-9400-1b2cee077ec9"
      },
      "source": [
        "# criando uma vizualização dos 25 primeiros exemplos contidos no dataset\n",
        "# porém agora na escala de cinza, com cores de 0 a 1\n",
        "\n",
        "print(f\"exemplo de dado antes do procesamento: {train_images[0, 5, :]}\")\n",
        "\n",
        "print(f\"exemplo de dado após o procesamento: {train_images[0, 5, :]}\")"
      ],
      "execution_count": null,
      "outputs": [
        {
          "output_type": "stream",
          "text": [
            "exemplo de dado antes do procesamento: [0.         0.         0.         0.         0.         0.\n",
            " 0.         0.         0.         0.         0.         0.\n",
            " 0.02352941 0.         0.4        0.8        0.69019608 0.5254902\n",
            " 0.56470588 0.48235294 0.09019608 0.         0.         0.\n",
            " 0.         0.04705882 0.03921569 0.        ]\n",
            "exemplo de dado após o procesamento: [0.         0.         0.         0.         0.         0.\n",
            " 0.         0.         0.         0.         0.         0.\n",
            " 0.02352941 0.         0.4        0.8        0.69019608 0.5254902\n",
            " 0.56470588 0.48235294 0.09019608 0.         0.         0.\n",
            " 0.         0.04705882 0.03921569 0.        ]\n"
          ],
          "name": "stdout"
        }
      ]
    },
    {
      "cell_type": "code",
      "metadata": {
        "colab": {
          "base_uri": "https://localhost:8080/",
          "height": 589
        },
        "id": "w1HFr5eUKEVV",
        "outputId": "27600287-37a7-4589-9f30-eb3e795b622f"
      },
      "source": [
        "plt.figure(figsize=(10,10))\n",
        "for i in range(25):\n",
        "    plt.subplot(5,5,i+1)\n",
        "    plt.xticks([])   # retira as marcações de x e y \n",
        "    plt.yticks([])\n",
        "    plt.grid(False)  # retira as linhas do grid\n",
        "    plt.imshow(train_images[i], cmap=plt.cm.binary)\n",
        "    plt.xlabel(class_names[train_labels[i]])   # adiciona os nomes das classes (nomes dos digitos)\n",
        "plt.show()"
      ],
      "execution_count": null,
      "outputs": [
        {
          "output_type": "display_data",
          "data": {
            "image/png": "[encoded data removed]",
            "text/plain": [
              "<Figure size 720x720 with 25 Axes>"
            ]
          },
          "metadata": {
            "tags": []
          }
        }
      ]
    },
    {
      "cell_type": "markdown",
      "metadata": {
        "id": "9rEPuqk_ZMx5"
      },
      "source": [
        "**Camada da Rede Neural**"
      ]
    },
    {
      "cell_type": "code",
      "metadata": {
        "id": "wobpsYjbLaGq",
        "colab": {
          "base_uri": "https://localhost:8080/"
        },
        "outputId": "e3679e44-d684-4f2d-e3be-5cce9da41f38"
      },
      "source": [
        "# cria a variável modelo e atribui a ela uma rede neural\n",
        "num_classes = 10\n",
        "input_shape = (28, 28, 1)\n",
        "\n",
        "# the data, split between train and test sets\n",
        "(x_train, y_train), (x_test, y_test) = keras.datasets.fashion_mnist.load_data()\n",
        "\n",
        "# Scale images to the [0, 1] range\n",
        "x_train = x_train.astype(\"float32\") / 255\n",
        "x_test = x_test.astype(\"float32\") / 255\n",
        "# Make sure images have shape (28, 28, 1)\n",
        "x_train = np.expand_dims(x_train, -1)\n",
        "x_test = np.expand_dims(x_test, -1)\n",
        "print(\"x_train shape:\", x_train.shape)\n",
        "print(x_train.shape[0], \"train samples\")\n",
        "print(x_test.shape[0], \"test samples\")\n",
        "\n",
        "\n",
        "# convert class vectors to binary class matrices\n",
        "y_train = keras.utils.to_categorical(y_train, num_classes)\n",
        "y_test = keras.utils.to_categorical(y_test, num_classes)"
      ],
      "execution_count": null,
      "outputs": [
        {
          "output_type": "stream",
          "text": [
            "x_train shape: (60000, 28, 28, 1)\n",
            "60000 train samples\n",
            "10000 test samples\n"
          ],
          "name": "stdout"
        }
      ]
    },
    {
      "cell_type": "markdown",
      "metadata": {
        "id": "F09mHDBmaYN2"
      },
      "source": [
        "**Gerar Modelo**"
      ]
    },
    {
      "cell_type": "code",
      "metadata": {
        "id": "WcLbEzuVaJbo",
        "colab": {
          "base_uri": "https://localhost:8080/"
        },
        "outputId": "50a5ece4-c26b-4311-972b-6f94ff48a491"
      },
      "source": [
        "# agora é necessário 'compilar' (fazer a rede se montar) o modelo\n",
        "model = keras.Sequential(\n",
        "    [\n",
        "        keras.Input(shape=input_shape),\n",
        "        layers.Conv2D(64, kernel_size=(3, 3), activation=\"relu\"),\n",
        "        layers.MaxPooling2D(pool_size=(2, 2)),\n",
        "        layers.Conv2D(128, kernel_size=(3, 3), activation=\"relu\"),\n",
        "        layers.MaxPooling2D(pool_size=(2, 2)),\n",
        "        layers.Flatten(),\n",
        "        #layers.Dropout(0.5),\n",
        "        layers.Dense(num_classes, activation=\"softmax\"),\n",
        "    ]\n",
        ")\n",
        "\n",
        "model.summary()"
      ],
      "execution_count": null,
      "outputs": [
        {
          "output_type": "stream",
          "text": [
            "WARNING:tensorflow:Please add `keras.layers.InputLayer` instead of `keras.Input` to Sequential model. `keras.Input` is intended to be used by Functional model.\n",
            "Model: \"sequential_3\"\n",
            "_________________________________________________________________\n",
            "Layer (type)                 Output Shape              Param #   \n",
            "=================================================================\n",
            "conv2d_4 (Conv2D)            (None, 26, 26, 64)        640       \n",
            "_________________________________________________________________\n",
            "max_pooling2d_4 (MaxPooling2 (None, 13, 13, 64)        0         \n",
            "_________________________________________________________________\n",
            "conv2d_5 (Conv2D)            (None, 11, 11, 128)       73856     \n",
            "_________________________________________________________________\n",
            "max_pooling2d_5 (MaxPooling2 (None, 5, 5, 128)         0         \n",
            "_________________________________________________________________\n",
            "flatten_3 (Flatten)          (None, 3200)              0         \n",
            "_________________________________________________________________\n",
            "dense_4 (Dense)              (None, 10)                32010     \n",
            "=================================================================\n",
            "Total params: 106,506\n",
            "Trainable params: 106,506\n",
            "Non-trainable params: 0\n",
            "_________________________________________________________________\n"
          ],
          "name": "stdout"
        }
      ]
    },
    {
      "cell_type": "markdown",
      "metadata": {
        "id": "kKfR04lkah96"
      },
      "source": [
        "**Treinar o modelo**"
      ]
    },
    {
      "cell_type": "code",
      "metadata": {
        "id": "hw2jsrFTak1P",
        "colab": {
          "base_uri": "https://localhost:8080/"
        },
        "outputId": "0beef191-8375-44f7-ca66-95870755023b"
      },
      "source": [
        "# treinamento o modelo (é o mesmo método utilizado no scikit-learn)\n",
        "batch_size = 128\n",
        "epochs = 15\n",
        "\n",
        "model.compile(loss=\"categorical_crossentropy\", optimizer=\"adam\", metrics=[\"accuracy\"])\n",
        "\n",
        "model.fit(x_train, y_train, batch_size=batch_size, epochs=epochs, validation_split=0.1)"
      ],
      "execution_count": null,
      "outputs": [
        {
          "output_type": "stream",
          "text": [
            "Epoch 1/15\n",
            "422/422 [==============================] - 106s 251ms/step - loss: 0.5597 - accuracy: 0.8003 - val_loss: 0.3759 - val_accuracy: 0.8605\n",
            "Epoch 2/15\n",
            "422/422 [==============================] - 106s 251ms/step - loss: 0.3536 - accuracy: 0.8754 - val_loss: 0.3357 - val_accuracy: 0.8823\n",
            "Epoch 3/15\n",
            "422/422 [==============================] - 105s 250ms/step - loss: 0.3105 - accuracy: 0.8900 - val_loss: 0.3160 - val_accuracy: 0.8855\n",
            "Epoch 4/15\n",
            "422/422 [==============================] - 104s 247ms/step - loss: 0.2835 - accuracy: 0.8981 - val_loss: 0.2856 - val_accuracy: 0.8955\n",
            "Epoch 5/15\n",
            "422/422 [==============================] - 106s 251ms/step - loss: 0.2603 - accuracy: 0.9075 - val_loss: 0.3050 - val_accuracy: 0.8880\n",
            "Epoch 6/15\n",
            "422/422 [==============================] - 107s 254ms/step - loss: 0.2425 - accuracy: 0.9125 - val_loss: 0.2666 - val_accuracy: 0.9022\n",
            "Epoch 7/15\n",
            "422/422 [==============================] - 107s 253ms/step - loss: 0.2264 - accuracy: 0.9179 - val_loss: 0.2895 - val_accuracy: 0.8940\n",
            "Epoch 8/15\n",
            "422/422 [==============================] - 111s 262ms/step - loss: 0.2115 - accuracy: 0.9233 - val_loss: 0.2583 - val_accuracy: 0.9095\n",
            "Epoch 9/15\n",
            "422/422 [==============================] - 108s 255ms/step - loss: 0.1964 - accuracy: 0.9291 - val_loss: 0.2541 - val_accuracy: 0.9100\n",
            "Epoch 10/15\n",
            "422/422 [==============================] - 104s 247ms/step - loss: 0.1869 - accuracy: 0.9328 - val_loss: 0.2488 - val_accuracy: 0.9118\n",
            "Epoch 11/15\n",
            "422/422 [==============================] - 105s 250ms/step - loss: 0.1747 - accuracy: 0.9364 - val_loss: 0.2446 - val_accuracy: 0.9142\n",
            "Epoch 12/15\n",
            "422/422 [==============================] - 105s 250ms/step - loss: 0.1635 - accuracy: 0.9411 - val_loss: 0.2618 - val_accuracy: 0.9090\n",
            "Epoch 13/15\n",
            "422/422 [==============================] - 105s 248ms/step - loss: 0.1533 - accuracy: 0.9447 - val_loss: 0.2466 - val_accuracy: 0.9137\n",
            "Epoch 14/15\n",
            "422/422 [==============================] - 104s 246ms/step - loss: 0.1441 - accuracy: 0.9485 - val_loss: 0.2566 - val_accuracy: 0.9123\n",
            "Epoch 15/15\n",
            "422/422 [==============================] - 108s 255ms/step - loss: 0.1348 - accuracy: 0.9516 - val_loss: 0.2647 - val_accuracy: 0.9097\n"
          ],
          "name": "stdout"
        },
        {
          "output_type": "execute_result",
          "data": {
            "text/plain": [
              "<tensorflow.python.keras.callbacks.History at 0x7f3665646ad0>"
            ]
          },
          "metadata": {
            "tags": []
          },
          "execution_count": 47
        }
      ]
    },
    {
      "cell_type": "markdown",
      "metadata": {
        "id": "BmLrS71rbIj-"
      },
      "source": [
        "\n",
        "\n",
        "**Resultado de acurácia**"
      ]
    },
    {
      "cell_type": "code",
      "metadata": {
        "id": "05IxgGT6bEUb",
        "colab": {
          "base_uri": "https://localhost:8080/"
        },
        "outputId": "a06bf356-487d-46f0-aa72-f7d64d15b97a"
      },
      "source": [
        "score = model.evaluate(x_test, y_test, verbose=0)\n",
        "print(\"Test loss:\", score[0])\n",
        "print(\"Test accuracy:\", score[1])"
      ],
      "execution_count": null,
      "outputs": [
        {
          "output_type": "stream",
          "text": [
            "Test loss: 0.2780728042125702\n",
            "Test accuracy: 0.906000018119812\n"
          ],
          "name": "stdout"
        }
      ]
    },
    {
      "cell_type": "markdown",
      "metadata": {
        "id": "WwEDed3XE1Y-"
      },
      "source": [
        "**Fazendo a Predição**"
      ]
    },
    {
      "cell_type": "code",
      "metadata": {
        "id": "KvSv4-PJGD3S"
      },
      "source": [
        "# comando para predizer\n",
        "predictions = model.predict(x_test)"
      ],
      "execution_count": null,
      "outputs": []
    },
    {
      "cell_type": "code",
      "metadata": {
        "id": "6ShtXqjUFPbJ"
      },
      "source": [
        ""
      ],
      "execution_count": null,
      "outputs": []
    },
    {
      "cell_type": "code",
      "metadata": {
        "id": "rKY3rlbQE67r"
      },
      "source": [
        "# um exemplo com mais plots de uma só vez\n",
        "# predições corretas em azul e as incorretas de vermelho\n",
        "\n",
        "def plot_image(i, predictions_array, true_label, img):\n",
        "  predictions_array, true_label, img = predictions_array[i], true_label[i], img[i]\n",
        "  plt.grid(False)\n",
        "  plt.xticks([])\n",
        "  plt.yticks([])\n",
        "\n",
        "  plt.imshow(img, cmap=plt.cm.binary)\n",
        "\n",
        "  predicted_label = np.argmax(predictions_array)\n",
        "  if predicted_label == true_label:\n",
        "    color = 'blue'\n",
        "  else:\n",
        "    color = 'red'\n",
        "\n",
        "  plt.xlabel(\"{} {:2.0f}% ({})\".format(class_names[predicted_label],\n",
        "                                100*np.max(predictions_array),\n",
        "                                class_names[true_label]),\n",
        "                                color=color)\n",
        "\n",
        "# função para plotar um gráfico em barras com os valores preditos (saída y do modelo)\n",
        "def plot_value_array(i, predictions_array, true_label):\n",
        "  predictions_array, true_label = predictions_array[i], true_label[i]\n",
        "  plt.grid(False)\n",
        "  plt.xticks([])\n",
        "  plt.yticks([])\n",
        "  thisplot = plt.bar(range(10), predictions_array, color=\"#777777\")\n",
        "  plt.ylim([0, 1])\n",
        "  predicted_label = np.argmax(predictions_array)\n",
        "\n",
        "  thisplot[predicted_label].set_color('red')\n",
        "  thisplot[true_label].set_color('blue')"
      ],
      "execution_count": null,
      "outputs": []
    },
    {
      "cell_type": "code",
      "metadata": {
        "colab": {
          "base_uri": "https://localhost:8080/",
          "height": 480
        },
        "id": "cTD7H0kkbq0T",
        "outputId": "45278b69-8ee3-433a-f677-02e0d7519fc9"
      },
      "source": [
        "num_rows = 4\n",
        "num_cols = 3\n",
        "num_images = num_rows*num_cols\n",
        "\n",
        "plt.figure(figsize=(2*2*num_cols, 2*num_rows))\n",
        "for i in range(num_images):\n",
        "  plt.subplot(num_rows, 2*num_cols, 2*i+1)\n",
        "  plot_image(i, predictions, test_labels, test_images)\n",
        "  plt.subplot(num_rows, 2*num_cols, 2*i+2)\n",
        "  plot_value_array(i, predictions, test_labels)\n",
        "plt.show()"
      ],
      "execution_count": null,
      "outputs": [
        {
          "output_type": "display_data",
          "data": {
            "image/png": "[encoded data removed]",
            "text/plain": [
              "<Figure size 864x576 with 24 Axes>"
            ]
          },
          "metadata": {
            "tags": []
          }
        }
      ]
    }
  ]
}