{
  "nbformat": 4,
  "nbformat_minor": 0,
  "metadata": {
    "colab": {
      "name": "Marcio Macedo da Silva Filho - 03_notebook_exercicio_pratico_comparativo_wine.ipynb",
      "provenance": [],
      "collapsed_sections": [],
      "include_colab_link": true
    },
    "kernelspec": {
      "name": "python3",
      "display_name": "Python 3"
    }
  },
  "cells": [
    {
      "cell_type": "markdown",
      "metadata": {
        "id": "view-in-github",
        "colab_type": "text"
      },
      "source": [
        "<a href=\"https://colab.research.google.com/github/marcyomacedo/MK/blob/master/Marcio_Macedo_da_Silva_Filho_03_notebook_exercicio_pratico_comparativo_wine.ipynb\" target=\"_parent\"><img src=\"https://colab.research.google.com/assets/colab-badge.svg\" alt=\"Open In Colab\"/></a>"
      ]
    },
    {
      "cell_type": "markdown",
      "metadata": {
        "id": "U3QHK4xpMDa3"
      },
      "source": [
        "\n",
        "# Exercício Prático - Comparativo com Vinhos\n",
        "\n",
        "Classificação de Qualidade de Vinhos do tipo 'Tinto' (Arquivo fornecido junto com notebook - 'winequality-red.csv')\n",
        "\n",
        "Utilizar as técnicas de Cross-Validation e StratifiedKFold no problema de classificação dos Vinhos"
      ]
    },
    {
      "cell_type": "markdown",
      "metadata": {
        "id": "nsN9Z_Q2JzTs"
      },
      "source": [
        "# 1 - Extração dos Atributos\n",
        "\n"
      ]
    },
    {
      "cell_type": "code",
      "metadata": {
        "id": "wo990FnoGOHP",
        "colab": {
          "base_uri": "https://localhost:8080/"
        },
        "outputId": "12c01a2d-b277-4693-f7a2-da01371ffab4"
      },
      "source": [
        "# Seus códigos para a etapa 1 deverão ser criados aqui:\n",
        "import pandas as pd\n",
        "\n",
        "import matplotlib.pyplot as plt\n",
        "\n",
        "arquivo = 'https://raw.githubusercontent.com/rafaelmm82/ufpb-ia-20201/master/02-fundamentos_de_ia/02_exercicio_pratico/winequality-red.csv'\n",
        "\n",
        "dataset = pd.read_csv(arquivo, header=0, sep=\";\")\n",
        "\n",
        "print(dataset)\n",
        "print(dataset.shape)\n",
        "print(dataset.groupby('quality').size())"
      ],
      "execution_count": null,
      "outputs": [
        {
          "output_type": "stream",
          "text": [
            "      fixed acidity  volatile acidity  citric acid  ...  sulphates  alcohol  quality\n",
            "0               7.4             0.700         0.00  ...       0.56      9.4        5\n",
            "1               7.8             0.880         0.00  ...       0.68      9.8        5\n",
            "2               7.8             0.760         0.04  ...       0.65      9.8        5\n",
            "3              11.2             0.280         0.56  ...       0.58      9.8        6\n",
            "4               7.4             0.700         0.00  ...       0.56      9.4        5\n",
            "...             ...               ...          ...  ...        ...      ...      ...\n",
            "1594            6.2             0.600         0.08  ...       0.58     10.5        5\n",
            "1595            5.9             0.550         0.10  ...       0.76     11.2        6\n",
            "1596            6.3             0.510         0.13  ...       0.75     11.0        6\n",
            "1597            5.9             0.645         0.12  ...       0.71     10.2        5\n",
            "1598            6.0             0.310         0.47  ...       0.66     11.0        6\n",
            "\n",
            "[1599 rows x 12 columns]\n",
            "(1599, 12)\n",
            "quality\n",
            "3     10\n",
            "4     53\n",
            "5    681\n",
            "6    638\n",
            "7    199\n",
            "8     18\n",
            "dtype: int64\n"
          ],
          "name": "stdout"
        }
      ]
    },
    {
      "cell_type": "markdown",
      "metadata": {
        "id": "eC2-SnCpLyVs"
      },
      "source": [
        "# 2 - Divisão dos Dados com Cross-Validation\n"
      ]
    },
    {
      "cell_type": "code",
      "metadata": {
        "id": "9U1C4B_FMVOi",
        "colab": {
          "base_uri": "https://localhost:8080/"
        },
        "outputId": "c621ee75-1ecf-444d-9222-4013beaeafc4"
      },
      "source": [
        "# Seus códigos para a etapa 2 deverão ser criados aqui:\n",
        "from sklearn.model_selection import train_test_split\n",
        "from sklearn.model_selection import cross_val_score\n",
        "from sklearn.linear_model import LogisticRegression\n",
        "\n",
        "array = dataset.values\n",
        "X = array[:,0:11]\n",
        "y = array[:,11]\n",
        "\n",
        "X_train, X_validation, Y_train, Y_validation = train_test_split(X, y, test_size=0.20, random_state=1, shuffle=True)\n",
        "\n",
        "model = LogisticRegression(solver='liblinear', multi_class='ovr')\n",
        "\n",
        "cv_results = cross_val_score(model, X_train, Y_train, cv=3, scoring='accuracy')\n",
        "print('cv_results ', cv_results)\n",
        "\n",
        "print(f'LR, média {cv_results.mean()} e desvio padrão {cv_results.std()}')\n",
        "\n"
      ],
      "execution_count": null,
      "outputs": [
        {
          "output_type": "stream",
          "text": [
            "cv_results  [0.55503513 0.60328638 0.55868545]\n",
            "LR, média 0.5723356532638454 e desvio padrão 0.02193615051438726\n"
          ],
          "name": "stdout"
        }
      ]
    },
    {
      "cell_type": "markdown",
      "metadata": {
        "id": "sgDVCmPiM3Lv"
      },
      "source": [
        "# 3 - Comparativo entre Modelos Com Cross-Validation e StratifiedKFold\n"
      ]
    },
    {
      "cell_type": "code",
      "metadata": {
        "id": "zMglNvZDNScZ",
        "colab": {
          "base_uri": "https://localhost:8080/"
        },
        "outputId": "ced267fd-d058-45c5-e3d0-ccfbf97236fd"
      },
      "source": [
        "# Seus códigos para a etapa 3 deverão ser criados aqui: \n",
        "from sklearn.model_selection import train_test_split\n",
        "from sklearn.model_selection import cross_val_score\n",
        "from sklearn.model_selection import StratifiedKFold \n",
        "from sklearn.linear_model import LogisticRegression\n",
        "\n",
        "array = dataset.values\n",
        "X = array[:,0:11]\n",
        "y = array[:,11]\n",
        "\n",
        "X_train, X_validation, Y_train, Y_validation = train_test_split(X, y, test_size=0.20, random_state=1, shuffle=True)\n",
        "\n",
        "\n",
        "kfold = StratifiedKFold(n_splits=5, random_state=1, shuffle=True)  \n",
        "\n",
        "model = LogisticRegression(solver='liblinear', multi_class='ovr')\n",
        "cv_results = cross_val_score(model, X_train, Y_train, cv=kfold, scoring='accuracy')  # <-- aqui a diferença\n",
        "print('cv_results ', cv_results)\n",
        "\n",
        "print(f'{len(cv_results)} treinamentos realizados')\n",
        "\n",
        "\n",
        "for valor in cv_results:\n",
        "  print(f'resultado treino: {valor:.02}')\n",
        "\n",
        "print(f'LR, média {cv_results.mean():.02} e desvio padrão {cv_results.std():0.2}')"
      ],
      "execution_count": null,
      "outputs": [
        {
          "output_type": "stream",
          "text": [
            "cv_results  [0.54296875 0.5703125  0.609375   0.5390625  0.58823529]\n",
            "5 treinamentos realizados\n",
            "resultado treino: 0.54\n",
            "resultado treino: 0.57\n",
            "resultado treino: 0.61\n",
            "resultado treino: 0.54\n",
            "resultado treino: 0.59\n",
            "LR, média 0.57 e desvio padrão 0.027\n"
          ],
          "name": "stdout"
        }
      ]
    },
    {
      "cell_type": "code",
      "metadata": {
        "colab": {
          "base_uri": "https://localhost:8080/"
        },
        "id": "gSE906vPRv4E",
        "outputId": "b3423958-c51a-49dd-e18d-003c24eefff9"
      },
      "source": [
        "\n",
        "from sklearn.model_selection import train_test_split\n",
        "from sklearn.model_selection import StratifiedKFold\n",
        "from sklearn.model_selection import cross_val_score\n",
        "\n",
        "from sklearn.linear_model import LogisticRegression\n",
        "from sklearn.tree import DecisionTreeClassifier\n",
        "from sklearn.neighbors import KNeighborsClassifier\n",
        "from sklearn.discriminant_analysis import LinearDiscriminantAnalysis\n",
        "from sklearn.naive_bayes import GaussianNB\n",
        "from sklearn.svm import SVC\n",
        "\n",
        "X_train, X_validation, Y_train, Y_validation = train_test_split(X, y, test_size=0.20, random_state=1, shuffle=True)\n",
        "\n",
        "models = []\n",
        "models.append(('LR', LogisticRegression(solver='liblinear', multi_class='ovr')))\n",
        "models.append(('KNN', KNeighborsClassifier()))\n",
        "models.append(('SVC', SVC(gamma='auto')))\n",
        "models.append(('CART', DecisionTreeClassifier()))\n",
        "models.append(('LDA', LinearDiscriminantAnalysis()))\n",
        "models.append(('NB', GaussianNB()))\n",
        "\n",
        "results = []\n",
        "names = []\n",
        "\n",
        "for name, model in models:\n",
        "\tkfold = StratifiedKFold(n_splits=5, random_state=1, shuffle=True)\n",
        "\tcv_results = cross_val_score(model, X_train, Y_train, cv=kfold, scoring='accuracy')\n",
        "\tresults.append(cv_results)\n",
        "\tnames.append(name)\n",
        "\tprint('modelo %s: média %f desvio(%f)' % (name, cv_results.mean(), cv_results.std()))"
      ],
      "execution_count": null,
      "outputs": [
        {
          "output_type": "stream",
          "text": [
            "modelo LR: média 0.569991 desvio(0.026724)\n",
            "modelo KNN: média 0.498863 desvio(0.038901)\n",
            "modelo SVC: média 0.561403 desvio(0.020633)\n",
            "modelo CART: média 0.600481 desvio(0.013942)\n",
            "modelo LDA: média 0.590340 desvio(0.041203)\n",
            "modelo NB: média 0.527773 desvio(0.030445)\n"
          ],
          "name": "stdout"
        }
      ]
    },
    {
      "cell_type": "code",
      "metadata": {
        "colab": {
          "base_uri": "https://localhost:8080/",
          "height": 281
        },
        "id": "9A1hO9UTSIzv",
        "outputId": "47107c46-8871-425a-f293-597f34422646"
      },
      "source": [
        "plt.boxplot(results, labels=names)\n",
        "plt.title('Comparação dos Algoritmos')\n",
        "plt.show()"
      ],
      "execution_count": null,
      "outputs": [
        {
          "output_type": "display_data",
          "data": {
            "image/png": "[encoded data removed]",
            "text/plain": [
              "<Figure size 432x288 with 1 Axes>"
            ]
          },
          "metadata": {
            "tags": [],
            "needs_background": "light"
          }
        }
      ]
    },
    {
      "cell_type": "code",
      "metadata": {
        "colab": {
          "base_uri": "https://localhost:8080/"
        },
        "id": "5aMiRaq9SN5p",
        "outputId": "43810621-9ba4-4ccf-c805-718f13287d23"
      },
      "source": [
        "for result in results:\n",
        "  print(result)"
      ],
      "execution_count": null,
      "outputs": [
        {
          "output_type": "stream",
          "text": [
            "[0.54296875 0.5703125  0.609375   0.5390625  0.58823529]\n",
            "[0.49609375 0.48828125 0.53125    0.43359375 0.54509804]\n",
            "[0.5546875  0.5703125  0.55078125 0.53515625 0.59607843]\n",
            "[0.60546875 0.5859375  0.61328125 0.58203125 0.61568627]\n",
            "[0.53515625 0.59765625 0.6328125  0.55078125 0.63529412]\n",
            "[0.5078125  0.51953125 0.57421875 0.48828125 0.54901961]\n"
          ],
          "name": "stdout"
        }
      ]
    }
  ]
}