{
  "nbformat": 4,
  "nbformat_minor": 0,
  "metadata": {
    "colab": {
      "name": "Marcio Macedo da Silva Filho - 04_exercicio_pratico_regressao_california.ipynb",
      "provenance": [],
      "collapsed_sections": [],
      "include_colab_link": true
    },
    "kernelspec": {
      "name": "python3",
      "display_name": "Python 3"
    }
  },
  "cells": [
    {
      "cell_type": "markdown",
      "metadata": {
        "id": "view-in-github",
        "colab_type": "text"
      },
      "source": [
        "<a href=\"https://colab.research.google.com/github/marcyomacedo/MK/blob/master/Marcio_Macedo_da_Silva_Filho_04_exercicio_pratico_regressao_california.ipynb\" target=\"_parent\"><img src=\"https://colab.research.google.com/assets/colab-badge.svg\" alt=\"Open In Colab\"/></a>"
      ]
    },
    {
      "cell_type": "markdown",
      "metadata": {
        "id": "_i-DDRSeQbw2"
      },
      "source": [
        "# Exercício Prático: Aprendizagem Supervisionada Regressão\n",
        "\n",
        "## Predição de valor de imóvel para o estado da California\n",
        "\n",
        "O objetivo nesse exercício é que vocês implementem regressores para predição de valores reais."
      ]
    },
    {
      "cell_type": "markdown",
      "metadata": {
        "id": "_LSmGBe_7X7t"
      },
      "source": [
        "<div>\n",
        "<img src=\"https://www.segurospromo.com.br/blog/wp-content/uploads/2020/07/cidades-da-california-los-angeles.jpg\", width=\"640\"/>\n",
        "<div/>"
      ]
    },
    {
      "cell_type": "markdown",
      "metadata": {
        "id": "LYvnD2lW_Ixh"
      },
      "source": [
        "# 1) Obtenção dos Dados\n",
        "\n",
        "Carregando as bibliotecas essenciais e os dataset\n"
      ]
    },
    {
      "cell_type": "code",
      "metadata": {
        "id": "WZmXzDAMQUzi"
      },
      "source": [
        "# bibliotecas numéricas numpy, pandas e para plot matplotlib e seaborn\n",
        "import numpy as np\n",
        "import pandas as pd\n",
        "import matplotlib.pyplot as plt\n",
        "import seaborn as sns\n",
        "from IPython.core.display import display, HTML\n",
        "sns.set_style('darkgrid')"
      ],
      "execution_count": null,
      "outputs": []
    },
    {
      "cell_type": "code",
      "metadata": {
        "id": "-MDEc1m9BfgN",
        "colab": {
          "base_uri": "https://localhost:8080/"
        },
        "outputId": "dfbc97d7-3cb1-4148-d051-161641bb2794"
      },
      "source": [
        "# para o data set usaremos o exemplo contido no próprio scikit-learn\n",
        "from sklearn.datasets import fetch_california_housing # procure no scikit qual é o dataset da california\n",
        "\n",
        "california_dataset =  fetch_california_housing() # objeto dataset do scikit, transformar em pandas"
      ],
      "execution_count": null,
      "outputs": [
        {
          "output_type": "stream",
          "text": [
            "Downloading Cal. housing from https://ndownloader.figshare.com/files/5976036 to /root/scikit_learn_data\n"
          ],
          "name": "stderr"
        }
      ]
    },
    {
      "cell_type": "markdown",
      "metadata": {
        "id": "-9O0M033GSIs"
      },
      "source": [
        "O que é um dataset do scikit-learn?\n",
        "\n",
        "Objeto e seu atributos"
      ]
    },
    {
      "cell_type": "code",
      "metadata": {
        "id": "yFB7DL6oDHmS",
        "colab": {
          "base_uri": "https://localhost:8080/"
        },
        "outputId": "f179b1d8-702d-4875-a596-d65eb99091c1"
      },
      "source": [
        "# descrevendo os objetos\n",
        "print('nomes de atributos', california_dataset.feature_names , '\\n\\n')\n",
        "print('Descrição', california_dataset.DESCR , '\\n\\n')\n",
        "print('dados', california_dataset.data, '\\n\\n')\n",
        "print('target', california_dataset.target, '\\n\\n')\n",
        "print('nome do arquivo','California', '\\n\\n')"
      ],
      "execution_count": null,
      "outputs": [
        {
          "output_type": "stream",
          "text": [
            "nomes de atributos ['MedInc', 'HouseAge', 'AveRooms', 'AveBedrms', 'Population', 'AveOccup', 'Latitude', 'Longitude'] \n",
            "\n",
            "\n",
            "Descrição .. _california_housing_dataset:\n",
            "\n",
            "California Housing dataset\n",
            "--------------------------\n",
            "\n",
            "**Data Set Characteristics:**\n",
            "\n",
            "    :Number of Instances: 20640\n",
            "\n",
            "    :Number of Attributes: 8 numeric, predictive attributes and the target\n",
            "\n",
            "    :Attribute Information:\n",
            "        - MedInc        median income in block\n",
            "        - HouseAge      median house age in block\n",
            "        - AveRooms      average number of rooms\n",
            "        - AveBedrms     average number of bedrooms\n",
            "        - Population    block population\n",
            "        - AveOccup      average house occupancy\n",
            "        - Latitude      house block latitude\n",
            "        - Longitude     house block longitude\n",
            "\n",
            "    :Missing Attribute Values: None\n",
            "\n",
            "This dataset was obtained from the StatLib repository.\n",
            "http://lib.stat.cmu.edu/datasets/\n",
            "\n",
            "The target variable is the median house value for California districts.\n",
            "\n",
            "This dataset was derived from the 1990 U.S. census, using one row per census\n",
            "block group. A block group is the smallest geographical unit for which the U.S.\n",
            "Census Bureau publishes sample data (a block group typically has a population\n",
            "of 600 to 3,000 people).\n",
            "\n",
            "It can be downloaded/loaded using the\n",
            ":func:`sklearn.datasets.fetch_california_housing` function.\n",
            "\n",
            ".. topic:: References\n",
            "\n",
            "    - Pace, R. Kelley and Ronald Barry, Sparse Spatial Autoregressions,\n",
            "      Statistics and Probability Letters, 33 (1997) 291-297\n",
            " \n",
            "\n",
            "\n",
            "dados [[   8.3252       41.            6.98412698 ...    2.55555556\n",
            "    37.88       -122.23      ]\n",
            " [   8.3014       21.            6.23813708 ...    2.10984183\n",
            "    37.86       -122.22      ]\n",
            " [   7.2574       52.            8.28813559 ...    2.80225989\n",
            "    37.85       -122.24      ]\n",
            " ...\n",
            " [   1.7          17.            5.20554273 ...    2.3256351\n",
            "    39.43       -121.22      ]\n",
            " [   1.8672       18.            5.32951289 ...    2.12320917\n",
            "    39.43       -121.32      ]\n",
            " [   2.3886       16.            5.25471698 ...    2.61698113\n",
            "    39.37       -121.24      ]] \n",
            "\n",
            "\n",
            "target [4.526 3.585 3.521 ... 0.923 0.847 0.894] \n",
            "\n",
            "\n",
            "nome do arquivo California \n",
            "\n",
            "\n"
          ],
          "name": "stdout"
        }
      ]
    },
    {
      "cell_type": "code",
      "metadata": {
        "id": "-vm37zLtBpT5",
        "colab": {
          "base_uri": "https://localhost:8080/"
        },
        "outputId": "dd8da6f0-eb6f-44c4-e0c7-de9ce7d8e0b4"
      },
      "source": [
        "# transformando em pandas DataFrame\n",
        "dataset = pd.DataFrame(california_dataset.data, columns=california_dataset.feature_names)\n",
        "\n",
        "# exibindo parte do dados\n",
        "print(dataset.head(5))"
      ],
      "execution_count": null,
      "outputs": [
        {
          "output_type": "stream",
          "text": [
            "   MedInc  HouseAge  AveRooms  ...  AveOccup  Latitude  Longitude\n",
            "0  8.3252      41.0  6.984127  ...  2.555556     37.88    -122.23\n",
            "1  8.3014      21.0  6.238137  ...  2.109842     37.86    -122.22\n",
            "2  7.2574      52.0  8.288136  ...  2.802260     37.85    -122.24\n",
            "3  5.6431      52.0  5.817352  ...  2.547945     37.85    -122.25\n",
            "4  3.8462      52.0  6.281853  ...  2.181467     37.85    -122.25\n",
            "\n",
            "[5 rows x 8 columns]\n"
          ],
          "name": "stdout"
        }
      ]
    },
    {
      "cell_type": "code",
      "metadata": {
        "id": "hI3GZ6hRIXTv",
        "colab": {
          "base_uri": "https://localhost:8080/"
        },
        "outputId": "c83760c9-b309-45bd-935d-0c12dac7161d"
      },
      "source": [
        "# adicionando o 'target' variável objetivo ('preço') ao dataset\n",
        "dataset['MEDV'] = california_dataset.target\n",
        "\n",
        "print(dataset.head(5))"
      ],
      "execution_count": null,
      "outputs": [
        {
          "output_type": "stream",
          "text": [
            "   MedInc  HouseAge  AveRooms  AveBedrms  ...  AveOccup  Latitude  Longitude   MEDV\n",
            "0  8.3252      41.0  6.984127   1.023810  ...  2.555556     37.88    -122.23  4.526\n",
            "1  8.3014      21.0  6.238137   0.971880  ...  2.109842     37.86    -122.22  3.585\n",
            "2  7.2574      52.0  8.288136   1.073446  ...  2.802260     37.85    -122.24  3.521\n",
            "3  5.6431      52.0  5.817352   1.073059  ...  2.547945     37.85    -122.25  3.413\n",
            "4  3.8462      52.0  6.281853   1.081081  ...  2.181467     37.85    -122.25  3.422\n",
            "\n",
            "[5 rows x 9 columns]\n"
          ],
          "name": "stdout"
        }
      ]
    },
    {
      "cell_type": "code",
      "metadata": {
        "id": "12lu3DtBKJBs",
        "colab": {
          "base_uri": "https://localhost:8080/",
          "height": 204
        },
        "outputId": "17cf5775-be5a-4450-bcf7-2d0cf91a04d1"
      },
      "source": [
        "# apresentando a função display para dataframes\n",
        "display(dataset.head(5))"
      ],
      "execution_count": null,
      "outputs": [
        {
          "output_type": "display_data",
          "data": {
            "text/html": [
              "<div>\n",
              "<style scoped>\n",
              "    .dataframe tbody tr th:only-of-type {\n",
              "        vertical-align: middle;\n",
              "    }\n",
              "\n",
              "    .dataframe tbody tr th {\n",
              "        vertical-align: top;\n",
              "    }\n",
              "\n",
              "    .dataframe thead th {\n",
              "        text-align: right;\n",
              "    }\n",
              "</style>\n",
              "<table border=\"1\" class=\"dataframe\">\n",
              "  <thead>\n",
              "    <tr style=\"text-align: right;\">\n",
              "      <th></th>\n",
              "      <th>MedInc</th>\n",
              "      <th>HouseAge</th>\n",
              "      <th>AveRooms</th>\n",
              "      <th>AveBedrms</th>\n",
              "      <th>Population</th>\n",
              "      <th>AveOccup</th>\n",
              "      <th>Latitude</th>\n",
              "      <th>Longitude</th>\n",
              "      <th>MEDV</th>\n",
              "    </tr>\n",
              "  </thead>\n",
              "  <tbody>\n",
              "    <tr>\n",
              "      <th>0</th>\n",
              "      <td>8.3252</td>\n",
              "      <td>41.0</td>\n",
              "      <td>6.984127</td>\n",
              "      <td>1.023810</td>\n",
              "      <td>322.0</td>\n",
              "      <td>2.555556</td>\n",
              "      <td>37.88</td>\n",
              "      <td>-122.23</td>\n",
              "      <td>4.526</td>\n",
              "    </tr>\n",
              "    <tr>\n",
              "      <th>1</th>\n",
              "      <td>8.3014</td>\n",
              "      <td>21.0</td>\n",
              "      <td>6.238137</td>\n",
              "      <td>0.971880</td>\n",
              "      <td>2401.0</td>\n",
              "      <td>2.109842</td>\n",
              "      <td>37.86</td>\n",
              "      <td>-122.22</td>\n",
              "      <td>3.585</td>\n",
              "    </tr>\n",
              "    <tr>\n",
              "      <th>2</th>\n",
              "      <td>7.2574</td>\n",
              "      <td>52.0</td>\n",
              "      <td>8.288136</td>\n",
              "      <td>1.073446</td>\n",
              "      <td>496.0</td>\n",
              "      <td>2.802260</td>\n",
              "      <td>37.85</td>\n",
              "      <td>-122.24</td>\n",
              "      <td>3.521</td>\n",
              "    </tr>\n",
              "    <tr>\n",
              "      <th>3</th>\n",
              "      <td>5.6431</td>\n",
              "      <td>52.0</td>\n",
              "      <td>5.817352</td>\n",
              "      <td>1.073059</td>\n",
              "      <td>558.0</td>\n",
              "      <td>2.547945</td>\n",
              "      <td>37.85</td>\n",
              "      <td>-122.25</td>\n",
              "      <td>3.413</td>\n",
              "    </tr>\n",
              "    <tr>\n",
              "      <th>4</th>\n",
              "      <td>3.8462</td>\n",
              "      <td>52.0</td>\n",
              "      <td>6.281853</td>\n",
              "      <td>1.081081</td>\n",
              "      <td>565.0</td>\n",
              "      <td>2.181467</td>\n",
              "      <td>37.85</td>\n",
              "      <td>-122.25</td>\n",
              "      <td>3.422</td>\n",
              "    </tr>\n",
              "  </tbody>\n",
              "</table>\n",
              "</div>"
            ],
            "text/plain": [
              "   MedInc  HouseAge  AveRooms  AveBedrms  ...  AveOccup  Latitude  Longitude   MEDV\n",
              "0  8.3252      41.0  6.984127   1.023810  ...  2.555556     37.88    -122.23  4.526\n",
              "1  8.3014      21.0  6.238137   0.971880  ...  2.109842     37.86    -122.22  3.585\n",
              "2  7.2574      52.0  8.288136   1.073446  ...  2.802260     37.85    -122.24  3.521\n",
              "3  5.6431      52.0  5.817352   1.073059  ...  2.547945     37.85    -122.25  3.413\n",
              "4  3.8462      52.0  6.281853   1.081081  ...  2.181467     37.85    -122.25  3.422\n",
              "\n",
              "[5 rows x 9 columns]"
            ]
          },
          "metadata": {
            "tags": []
          }
        }
      ]
    },
    {
      "cell_type": "markdown",
      "metadata": {
        "id": "ef5Hz9ib8fv4"
      },
      "source": [
        "#2) Visulizando e dividindo os dados"
      ]
    },
    {
      "cell_type": "markdown",
      "metadata": {
        "id": "nGnAabvjKwWT"
      },
      "source": [
        "### Organizando o dataset"
      ]
    },
    {
      "cell_type": "code",
      "metadata": {
        "id": "XKx_ADiu82-E",
        "colab": {
          "base_uri": "https://localhost:8080/"
        },
        "outputId": "990319d2-d431-45b2-8408-862c2d133d0c"
      },
      "source": [
        "# Como habitualmente, dividimos o conjunto entre 'featuers/atributos' e 'targets/saídas'\n",
        "array = dataset.values\n",
        "print(type(array))\n",
        "X = array[:,0:8]\n",
        "y = array[:,8]"
      ],
      "execution_count": null,
      "outputs": [
        {
          "output_type": "stream",
          "text": [
            "<class 'numpy.ndarray'>\n"
          ],
          "name": "stdout"
        }
      ]
    },
    {
      "cell_type": "code",
      "metadata": {
        "id": "mpuDWPuPKh2p"
      },
      "source": [
        "# para dividir automaticamente os dados\n",
        "from sklearn.model_selection import train_test_split\n",
        "\n",
        "# dividindo os dados\n",
        "X_train, X_test, y_train, y_test = train_test_split(X, y, test_size = 0.3)"
      ],
      "execution_count": null,
      "outputs": []
    },
    {
      "cell_type": "code",
      "metadata": {
        "id": "mvRHJZ5qKmnj",
        "colab": {
          "base_uri": "https://localhost:8080/"
        },
        "outputId": "6e9583ed-15b6-420e-9273-15900a6ce56c"
      },
      "source": [
        "print(\"Formato de X_train: \",X_train.shape)\n",
        "print(\"Formato de X_test: \", X_test.shape)\n",
        "print(\"Formato de y_train: \",y_train.shape)\n",
        "print(\"Formato de y_test\",y_test.shape)"
      ],
      "execution_count": null,
      "outputs": [
        {
          "output_type": "stream",
          "text": [
            "Formato de X_train:  (14448, 8)\n",
            "Formato de X_test:  (6192, 8)\n",
            "Formato de y_train:  (14448,)\n",
            "Formato de y_test (6192,)\n"
          ],
          "name": "stdout"
        }
      ]
    },
    {
      "cell_type": "markdown",
      "metadata": {
        "id": "VWdWcZmpKz0d"
      },
      "source": [
        "### Visualizando os **dados**"
      ]
    },
    {
      "cell_type": "code",
      "metadata": {
        "id": "gRJtRvUXK1Ra",
        "colab": {
          "base_uri": "https://localhost:8080/",
          "height": 642
        },
        "outputId": "68bd4a91-dcd3-4859-833f-a50a37ef34ff"
      },
      "source": [
        "# obtendo a estatítica de correlação\n",
        "corr = dataset.corr()\n",
        "\n",
        "# gerando o gráfico de 'heatmap' e plotando\n",
        "fig, ax = plt.subplots(figsize=(10, 10))\n",
        "sns.heatmap(corr, cmap='RdBu', annot=True, fmt=\".2f\")\n",
        "\n",
        "# definindo os 'labels' do gráfico\n",
        "plt.xticks(np.arange(len(corr.columns))+0.5, corr.columns, ha=\"center\")\n",
        "plt.yticks(np.arange(len(corr.columns))+0.5, corr.columns, va='center')\n",
        "\n",
        "#show plot\n",
        "plt.show()"
      ],
      "execution_count": null,
      "outputs": [
        {
          "output_type": "display_data",
          "data": {
            "image/png": "[encoded data removed]",
            "text/plain": [
              "<Figure size 720x720 with 2 Axes>"
            ]
          },
          "metadata": {
            "tags": []
          }
        }
      ]
    },
    {
      "cell_type": "markdown",
      "metadata": {
        "id": "4putOAea8tmG"
      },
      "source": [
        "#3) Criando e treinando os modelos e avaliando os resultados"
      ]
    },
    {
      "cell_type": "code",
      "metadata": {
        "id": "3_n8dYh3S6kf"
      },
      "source": [
        "# importando as funções de avaliação\n",
        "from sklearn.metrics import mean_squared_error\n",
        "from sklearn.model_selection import cross_val_score\n",
        "from sklearn.metrics import r2_score"
      ],
      "execution_count": null,
      "outputs": []
    },
    {
      "cell_type": "markdown",
      "metadata": {
        "id": "eXWsrec3RxaY"
      },
      "source": [
        "Começando com o modelo LinearRegression"
      ]
    },
    {
      "cell_type": "markdown",
      "metadata": {
        "id": "E-Ptdz8AVyuO"
      },
      "source": [
        "### Modelo Linear Regression"
      ]
    },
    {
      "cell_type": "code",
      "metadata": {
        "id": "0pRsFzb18tRa"
      },
      "source": [
        "# carregando o modelo\n",
        "from sklearn.linear_model import LinearRegression"
      ],
      "execution_count": null,
      "outputs": []
    },
    {
      "cell_type": "code",
      "metadata": {
        "id": "JJP0nrqUSJW7",
        "colab": {
          "base_uri": "https://localhost:8080/"
        },
        "outputId": "ed7f6c61-8a35-4cd2-8aff-930de08b508b"
      },
      "source": [
        "model_1 = LinearRegression()\n",
        "model_1.fit(X_train, y_train)"
      ],
      "execution_count": null,
      "outputs": [
        {
          "output_type": "execute_result",
          "data": {
            "text/plain": [
              "LinearRegression(copy_X=True, fit_intercept=True, n_jobs=None, normalize=False)"
            ]
          },
          "metadata": {
            "tags": []
          },
          "execution_count": 18
        }
      ]
    },
    {
      "cell_type": "code",
      "metadata": {
        "id": "nlOyjw6k8yd3"
      },
      "source": [
        "# avaliar o desempenho de acurácia usando o cross-validation\n",
        "cv_1 = cross_val_score(estimator=model_1, X=X_train, y=y_train, cv=10)"
      ],
      "execution_count": null,
      "outputs": []
    },
    {
      "cell_type": "code",
      "metadata": {
        "id": "qFUPOZfpT2JL"
      },
      "source": [
        "# calcular o desempenho usando a métrica r2\n",
        "y_pred_train_1 = model_1.predict(X_train)\n",
        "r2_train_1 = r2_score(y_train, y_pred_train_1)\n",
        "\n",
        "y_pred_test_1 = model_1.predict(X_test)\n",
        "r2_test_1 = r2_score(y_test, y_pred_test_1)"
      ],
      "execution_count": null,
      "outputs": []
    },
    {
      "cell_type": "code",
      "metadata": {
        "id": "PC8ecqh3U0ay"
      },
      "source": [
        "# calcular o desepenho usando RMSE\n",
        "rmse_1 = (np.sqrt(mean_squared_error(y_test, y_pred_test_1)))"
      ],
      "execution_count": null,
      "outputs": []
    },
    {
      "cell_type": "code",
      "metadata": {
        "id": "pUmDlaPHTl5N",
        "colab": {
          "base_uri": "https://localhost:8080/"
        },
        "outputId": "ed03affe-cc41-43e7-a7c4-dccaa91a743d"
      },
      "source": [
        "# exibindo os resultados\n",
        "print('Modelo Linear Regression\\n')\n",
        "print('CV: ', cv_1.mean())\n",
        "print('R2 train:', r2_train_1)\n",
        "print('R2 test:', r2_test_1)\n",
        "print('RMSE:', rmse_1)"
      ],
      "execution_count": null,
      "outputs": [
        {
          "output_type": "stream",
          "text": [
            "Modelo Linear Regression\n",
            "\n",
            "CV:  0.4599619221124012\n",
            "R2 train: 0.6076918551750623\n",
            "R2 test: 0.6026225974777493\n",
            "RMSE: 0.7359765711862573\n"
          ],
          "name": "stdout"
        }
      ]
    },
    {
      "cell_type": "markdown",
      "metadata": {
        "id": "09bT5FwdVxYy"
      },
      "source": [
        "### Modelo Decision Tree Regression"
      ]
    },
    {
      "cell_type": "code",
      "metadata": {
        "id": "VLSgXOjtWDGd"
      },
      "source": [
        "# carregando o modelo\n",
        "from sklearn.tree import DecisionTreeRegressor"
      ],
      "execution_count": null,
      "outputs": []
    },
    {
      "cell_type": "code",
      "metadata": {
        "id": "3XKWJaU9WEPp",
        "colab": {
          "base_uri": "https://localhost:8080/"
        },
        "outputId": "b058a104-738c-4ef1-8d48-287151ef1b2d"
      },
      "source": [
        "model_2 = DecisionTreeRegressor()\n",
        "model_2.fit(X_train, y_train)"
      ],
      "execution_count": null,
      "outputs": [
        {
          "output_type": "execute_result",
          "data": {
            "text/plain": [
              "DecisionTreeRegressor(ccp_alpha=0.0, criterion='mse', max_depth=None,\n",
              "                      max_features=None, max_leaf_nodes=None,\n",
              "                      min_impurity_decrease=0.0, min_impurity_split=None,\n",
              "                      min_samples_leaf=1, min_samples_split=2,\n",
              "                      min_weight_fraction_leaf=0.0, presort='deprecated',\n",
              "                      random_state=None, splitter='best')"
            ]
          },
          "metadata": {
            "tags": []
          },
          "execution_count": 24
        }
      ]
    },
    {
      "cell_type": "code",
      "metadata": {
        "id": "MPdVis1YWEKD"
      },
      "source": [
        "# avaliar o desempenho de acurácia usando o cross-validation\n",
        "cv_2 = cross_val_score(estimator=model_2, X=X_train, y=y_train, cv=10)"
      ],
      "execution_count": null,
      "outputs": []
    },
    {
      "cell_type": "code",
      "metadata": {
        "id": "eWpjuV7YWEEy"
      },
      "source": [
        "# calcular o desempenho usando a métrica r2\n",
        "y_pred_train_2 = model_2.predict(X_train)\n",
        "r2_train_2 = r2_score(y_train, y_pred_train_2)\n",
        "\n",
        "y_pred_test_2 = model_2.predict(X_test)\n",
        "r2_test_2 = r2_score(y_test, y_pred_test_2)"
      ],
      "execution_count": null,
      "outputs": []
    },
    {
      "cell_type": "code",
      "metadata": {
        "id": "rztfMvwfWD4T"
      },
      "source": [
        "# calcular o desepenho usando RMSE\n",
        "rmse_2 = (np.sqrt(mean_squared_error(y_test, y_pred_test_2)))"
      ],
      "execution_count": null,
      "outputs": []
    },
    {
      "cell_type": "code",
      "metadata": {
        "id": "P68lNvyzXDkj",
        "colab": {
          "base_uri": "https://localhost:8080/"
        },
        "outputId": "31941575-ccc7-4c2e-acee-7d5647c29702"
      },
      "source": [
        "# exibindo os resultados\n",
        "print('Modelo DecisionTreeRegression\\n')\n",
        "print('CV: ', cv_2.mean())\n",
        "print('R2 train:', r2_train_2)\n",
        "print('R2 test:', r2_test_2)\n",
        "print('RMSE:', rmse_2)"
      ],
      "execution_count": null,
      "outputs": [
        {
          "output_type": "stream",
          "text": [
            "Modelo DecisionTreeRegression\n",
            "\n",
            "CV:  0.6188921478586502\n",
            "R2 train: 0.9999999999999531\n",
            "R2 test: 0.6062605063268167\n",
            "RMSE: 0.7325999678953642\n"
          ],
          "name": "stdout"
        }
      ]
    },
    {
      "cell_type": "markdown",
      "metadata": {
        "id": "I-imJ3ZsWF7y"
      },
      "source": [
        "### Modelo Polynomial Regression de 2 ordem"
      ]
    },
    {
      "cell_type": "code",
      "metadata": {
        "id": "1O3kWYMzWK9U"
      },
      "source": [
        "# carregando o modelo\n",
        "from sklearn.preprocessing import PolynomialFeatures\n",
        "from sklearn.feature_selection import SelectFromModel\n",
        "from sklearn.linear_model import Lasso"
      ],
      "execution_count": null,
      "outputs": []
    },
    {
      "cell_type": "code",
      "metadata": {
        "id": "9iGdaLGHWKy_"
      },
      "source": [
        "poly_reg = PolynomialFeatures(degree = 2)\n",
        "X_poly = poly_reg.fit_transform(X_train)\n",
        "poly_reg.fit(X_poly, y_train)\n",
        "\n",
        "model_3 = LinearRegression()\n",
        "# model_3.fit(X_poly, y_train)\n"
      ],
      "execution_count": null,
      "outputs": []
    },
    {
      "cell_type": "code",
      "metadata": {
        "id": "VvQQeHiq6wNw",
        "colab": {
          "base_uri": "https://localhost:8080/"
        },
        "outputId": "f7b7ea38-fab2-4fff-85d1-17bd30d79b37"
      },
      "source": [
        "print(X_train.shape)"
      ],
      "execution_count": null,
      "outputs": [
        {
          "output_type": "stream",
          "text": [
            "(14448, 8)\n"
          ],
          "name": "stdout"
        }
      ]
    },
    {
      "cell_type": "code",
      "metadata": {
        "id": "60qtM0Ig69Du",
        "colab": {
          "base_uri": "https://localhost:8080/"
        },
        "outputId": "54eddf3d-b537-4201-ead0-0b289e964ee7"
      },
      "source": [
        "print(X_poly.shape)"
      ],
      "execution_count": null,
      "outputs": [
        {
          "output_type": "stream",
          "text": [
            "(14448, 45)\n"
          ],
          "name": "stdout"
        }
      ]
    },
    {
      "cell_type": "code",
      "metadata": {
        "colab": {
          "base_uri": "https://localhost:8080/"
        },
        "id": "gseXnAPxyah-",
        "outputId": "77c8f8ff-78e8-4327-8d62-48f360b51eeb"
      },
      "source": [
        "lasso = Lasso().fit(X_poly,y_train)\n",
        "model = SelectFromModel(lasso, prefit=True)\n",
        "X_new = model.transform(X_poly)\n",
        "X_new.shape"
      ],
      "execution_count": null,
      "outputs": [
        {
          "output_type": "stream",
          "text": [
            "/usr/local/lib/python3.7/dist-packages/sklearn/linear_model/_coordinate_descent.py:476: ConvergenceWarning: Objective did not converge. You might want to increase the number of iterations. Duality gap: 3696.751848730158, tolerance: 1.9042929156251187\n",
            "  positive)\n"
          ],
          "name": "stderr"
        },
        {
          "output_type": "execute_result",
          "data": {
            "text/plain": [
              "(14448, 14)"
            ]
          },
          "metadata": {
            "tags": []
          },
          "execution_count": 74
        }
      ]
    },
    {
      "cell_type": "code",
      "metadata": {
        "colab": {
          "base_uri": "https://localhost:8080/"
        },
        "id": "dtHy3f4O3V6N",
        "outputId": "cbceacdb-e303-4b36-c4cf-e7cea2304559"
      },
      "source": [
        "model_3.fit(X_new, y_train)"
      ],
      "execution_count": null,
      "outputs": [
        {
          "output_type": "execute_result",
          "data": {
            "text/plain": [
              "LinearRegression(copy_X=True, fit_intercept=True, n_jobs=None, normalize=False)"
            ]
          },
          "metadata": {
            "tags": []
          },
          "execution_count": 78
        }
      ]
    },
    {
      "cell_type": "code",
      "metadata": {
        "id": "7HCRCBBbWKk0"
      },
      "source": [
        "# avaliar o desempenho de acurácia usando o cross-validation\n",
        "cv_3 = cross_val_score(estimator=model_3, X=X_new, y=y_train, cv=10)\n",
        "\n",
        "# calcular o desempenho usando a métrica r2\n",
        "# y_pred_train_3 = model_3.predict(X_poly)\n",
        "y_pred_train_3 = model_3.predict(X_new)\n",
        "r2_train_3 = r2_score(y_train, y_pred_train_3)\n",
        "\n",
        "# y_pred_test_3 = model_3.predict(poly_reg.fit_transform(X_test))\n",
        "y_pred_test_3 = model_3.predict(model.transform(poly_reg.fit_transform(X_test)))\n",
        "r2_test_3 = r2_score(y_test, y_pred_test_3)\n",
        "\n",
        "# calcular o desepenho usando RMSE\n",
        "rmse_3 = (np.sqrt(mean_squared_error(y_test, y_pred_test_3)))"
      ],
      "execution_count": null,
      "outputs": []
    },
    {
      "cell_type": "code",
      "metadata": {
        "id": "Ua14puZ4XSdz",
        "colab": {
          "base_uri": "https://localhost:8080/"
        },
        "outputId": "01d28686-a6a7-46c1-9051-a3df957b967d"
      },
      "source": [
        "# exibindo os resultados\n",
        "print('Modelo Polynomial Regression\\n')\n",
        "print('CV: ', cv_3.mean())\n",
        "print('R2 train:', r2_train_3)\n",
        "print('R2 test:', r2_test_3)\n",
        "print('RMSE:', rmse_3)"
      ],
      "execution_count": null,
      "outputs": [
        {
          "output_type": "stream",
          "text": [
            "Modelo Polynomial Regression\n",
            "\n",
            "CV:  -223.9598128889207\n",
            "R2 train: 0.6194605144629459\n",
            "R2 test: 0.6128639847054163\n",
            "RMSE: 0.7264307068162082\n"
          ],
          "name": "stdout"
        }
      ]
    },
    {
      "cell_type": "markdown",
      "metadata": {
        "id": "7BksQdxZp0YR"
      },
      "source": [
        "# Outro Modelo de Sua Escolha 1"
      ]
    },
    {
      "cell_type": "code",
      "metadata": {
        "id": "rwbEwKglpuxD"
      },
      "source": [
        "from sklearn import linear_model"
      ],
      "execution_count": null,
      "outputs": []
    },
    {
      "cell_type": "code",
      "metadata": {
        "id": "55YATY_773tb"
      },
      "source": [
        "model_4 = linear_model.BayesianRidge()"
      ],
      "execution_count": null,
      "outputs": []
    },
    {
      "cell_type": "code",
      "metadata": {
        "colab": {
          "base_uri": "https://localhost:8080/"
        },
        "id": "kfnjQQED7-t8",
        "outputId": "512e6fee-150d-4770-cf9a-6f89de4043d6"
      },
      "source": [
        "model_4.fit(X_train, y_train)"
      ],
      "execution_count": null,
      "outputs": [
        {
          "output_type": "execute_result",
          "data": {
            "text/plain": [
              "BayesianRidge(alpha_1=1e-06, alpha_2=1e-06, alpha_init=None,\n",
              "              compute_score=False, copy_X=True, fit_intercept=True,\n",
              "              lambda_1=1e-06, lambda_2=1e-06, lambda_init=None, n_iter=300,\n",
              "              normalize=False, tol=0.001, verbose=False)"
            ]
          },
          "metadata": {
            "tags": []
          },
          "execution_count": 37
        }
      ]
    },
    {
      "cell_type": "code",
      "metadata": {
        "id": "zmdHPcIY8rup"
      },
      "source": [
        "# avaliar o desempenho de acurácia usando o cross-validation\n",
        "cv_4 = cross_val_score(estimator=model_4, X=X_train, y=y_train, cv=10)\n",
        "\n",
        "# calcular o desempenho usando a métrica r2\n",
        "y_pred_train_4 = model_4.predict(X_train)\n",
        "r2_train_4 = r2_score(y_train, y_pred_train_4)\n",
        "\n",
        "y_pred_test_4 = model_4.predict(X_test)\n",
        "r2_test_4 = r2_score(y_test, y_pred_test_4)\n",
        "\n",
        "# calcular o desepenho usando RMSE\n",
        "rmse_4 = (np.sqrt(mean_squared_error(y_test, y_pred_test_4)))"
      ],
      "execution_count": null,
      "outputs": []
    },
    {
      "cell_type": "code",
      "metadata": {
        "colab": {
          "base_uri": "https://localhost:8080/"
        },
        "id": "NpgJ8YNe-XHi",
        "outputId": "58eaba6a-bb4d-4e7b-dcfe-9ad62c7ea7ee"
      },
      "source": [
        "# exibindo os resultados\n",
        "print('Modelo Bayesian Ridge Regression\\n')\n",
        "print('CV: ', cv_4.mean())\n",
        "print('R2 train:', r2_train_4)\n",
        "print('R2 test:', r2_test_4)\n",
        "print('RMSE:', rmse_4)"
      ],
      "execution_count": null,
      "outputs": [
        {
          "output_type": "stream",
          "text": [
            "Modelo Bayesian Ridge Regression\n",
            "\n",
            "CV:  0.45977535450344653\n",
            "R2 train: 0.6076909122927365\n",
            "R2 test: 0.6025832961817295\n",
            "RMSE: 0.7360129649491649\n"
          ],
          "name": "stdout"
        }
      ]
    },
    {
      "cell_type": "markdown",
      "metadata": {
        "id": "-Rc6BbwLp2qo"
      },
      "source": [
        "# Outro Modelo de Sua Escolha 2"
      ]
    },
    {
      "cell_type": "code",
      "metadata": {
        "id": "4zyyEpEmp54L",
        "colab": {
          "base_uri": "https://localhost:8080/"
        },
        "outputId": "52f89704-c0b6-4b5b-fc35-0e555245cd01"
      },
      "source": [
        "from sklearn import svm\n",
        "model_5 = svm.SVR(gamma=\"auto\",epsilon=0.2)\n",
        "model_5.fit(X_train, y_train)"
      ],
      "execution_count": null,
      "outputs": [
        {
          "output_type": "execute_result",
          "data": {
            "text/plain": [
              "SVR(C=1.0, cache_size=200, coef0=0.0, degree=3, epsilon=0.2, gamma='auto',\n",
              "    kernel='rbf', max_iter=-1, shrinking=True, tol=0.001, verbose=False)"
            ]
          },
          "metadata": {
            "tags": []
          },
          "execution_count": 55
        }
      ]
    },
    {
      "cell_type": "code",
      "metadata": {
        "id": "wvpM9CzXAbFe"
      },
      "source": [
        "# avaliar o desempenho de acurácia usando o cross-validation\n",
        "cv_5 = cross_val_score(estimator=model_5, X=X_train, y=y_train, cv=10)\n",
        "\n",
        "# calcular o desempenho usando a métrica r2\n",
        "y_pred_train_5 = model_5.predict(X_train)\n",
        "r2_train_5 = r2_score(y_train, y_pred_train_5)\n",
        "\n",
        "y_pred_test_5 = model_5.predict(X_test)\n",
        "r2_test_5 = r2_score(y_test, y_pred_test_5)\n",
        "\n",
        "# calcular o desepenho usando RMSE\n",
        "rmse_5 = (np.sqrt(mean_squared_error(y_test, y_pred_test_5)))"
      ],
      "execution_count": null,
      "outputs": []
    },
    {
      "cell_type": "code",
      "metadata": {
        "colab": {
          "base_uri": "https://localhost:8080/"
        },
        "id": "IO-UPIDdAuND",
        "outputId": "7a821502-874d-4a41-f792-df8e8e01a691"
      },
      "source": [
        "# exibindo os resultados\n",
        "print('Modelo SVM\\n')\n",
        "print('CV: ', cv_5.mean())\n",
        "print('R2 train:', r2_train_5)\n",
        "print('R2 test:', r2_test_5)\n",
        "print('RMSE:', rmse_5)"
      ],
      "execution_count": null,
      "outputs": [
        {
          "output_type": "stream",
          "text": [
            "Modelo SVM\n",
            "\n",
            "CV:  0.0882304034979559\n",
            "R2 train: 0.7429887926467456\n",
            "R2 test: 0.09562448597008733\n",
            "RMSE: 1.1102909597749782\n"
          ],
          "name": "stdout"
        }
      ]
    },
    {
      "cell_type": "markdown",
      "metadata": {
        "id": "MHSKteyLp6ay"
      },
      "source": [
        "# Outro Modelo de Sua escolha 3"
      ]
    },
    {
      "cell_type": "code",
      "metadata": {
        "id": "FprIqLSyp8z4",
        "colab": {
          "base_uri": "https://localhost:8080/"
        },
        "outputId": "fafdbd80-64c1-45fb-dc4e-8f2131e9a82e"
      },
      "source": [
        "from sklearn import neighbors\n",
        "model_6 = neighbors.KNeighborsRegressor()\n",
        "model_6.fit(X_train, y_train)"
      ],
      "execution_count": null,
      "outputs": [
        {
          "output_type": "execute_result",
          "data": {
            "text/plain": [
              "KNeighborsRegressor(algorithm='auto', leaf_size=30, metric='minkowski',\n",
              "                    metric_params=None, n_jobs=None, n_neighbors=5, p=2,\n",
              "                    weights='uniform')"
            ]
          },
          "metadata": {
            "tags": []
          },
          "execution_count": 45
        }
      ]
    },
    {
      "cell_type": "code",
      "metadata": {
        "id": "qpKybeDJCoIq"
      },
      "source": [
        "# avaliar o desempenho de acurácia usando o cross-validation\n",
        "cv_6 = cross_val_score(estimator=model_6, X=X_train, y=y_train, cv=10)\n",
        "\n",
        "# calcular o desempenho usando a métrica r2\n",
        "y_pred_train_6 = model_6.predict(X_train)\n",
        "r2_train_6 = r2_score(y_train, y_pred_train_6)\n",
        "\n",
        "y_pred_test_6 = model_6.predict(X_test)\n",
        "r2_test_6 = r2_score(y_test, y_pred_test_6)\n",
        "\n",
        "# calcular o desepenho usando RMSE\n",
        "rmse_6 = (np.sqrt(mean_squared_error(y_test, y_pred_test_6)))"
      ],
      "execution_count": null,
      "outputs": []
    },
    {
      "cell_type": "code",
      "metadata": {
        "colab": {
          "base_uri": "https://localhost:8080/"
        },
        "id": "86b3FNN0C2Eo",
        "outputId": "08b56214-ceb1-472f-c664-364fb69d2936"
      },
      "source": [
        "# exibindo os resultados\n",
        "print('Modelo KNeighborsRegressor\\n')\n",
        "print('CV: ', cv_6.mean())\n",
        "print('R2 train:', r2_train_6)\n",
        "print('R2 test:', r2_test_6)\n",
        "print('RMSE:', rmse_6)"
      ],
      "execution_count": null,
      "outputs": [
        {
          "output_type": "stream",
          "text": [
            "Modelo KNeighborsRegressor\n",
            "\n",
            "CV:  0.13328453660558925\n",
            "R2 train: 0.44407549505816024\n",
            "R2 test: 0.13819513238270043\n",
            "RMSE: 1.0838442487152553\n"
          ],
          "name": "stdout"
        }
      ]
    },
    {
      "cell_type": "markdown",
      "metadata": {
        "id": "2hfpg8r28y6d"
      },
      "source": [
        "#4) Comparando o desempenho"
      ]
    },
    {
      "cell_type": "code",
      "metadata": {
        "id": "i7ZQrLcB82Jp"
      },
      "source": [
        "# medindo o erro\n",
        "\n",
        "models = [('Linear Regression', rmse_1, r2_train_1, r2_test_1, cv_1.mean()),\n",
        "          ('Decision Tree Regression', rmse_2, r2_train_2, r2_test_2, cv_2.mean()),\n",
        "          ('Polynomial Regression (2nd)', rmse_3, r2_train_3, r2_test_3, cv_3.mean()),\n",
        "          ('Bayesian Ridge Regression', rmse_4, r2_train_4, r2_test_4, cv_4.mean()),\n",
        "          ('SVM', rmse_5, r2_train_5, r2_test_5, cv_5.mean()), \n",
        "          ('KNeighborsRegressor', rmse_6, r2_train_6, r2_test_6, cv_6.mean()),    \n",
        "         ]\n",
        "\n",
        "         ### ADICIONE OS MODELOS 1, 2, 3 de sua escolha para comparar com os demais"
      ],
      "execution_count": null,
      "outputs": []
    },
    {
      "cell_type": "code",
      "metadata": {
        "id": "oXCMYWrGqmG8",
        "colab": {
          "base_uri": "https://localhost:8080/",
          "height": 235
        },
        "outputId": "e5fac11d-ef23-4513-8cad-a06b14c27439"
      },
      "source": [
        "predict = pd.DataFrame(data = models, columns=['Model', 'RMSE', 'R2_Score(train)', 'R2_Score(test)', 'Cross-Validation'])\n",
        "predict"
      ],
      "execution_count": null,
      "outputs": [
        {
          "output_type": "execute_result",
          "data": {
            "text/html": [
              "<div>\n",
              "<style scoped>\n",
              "    .dataframe tbody tr th:only-of-type {\n",
              "        vertical-align: middle;\n",
              "    }\n",
              "\n",
              "    .dataframe tbody tr th {\n",
              "        vertical-align: top;\n",
              "    }\n",
              "\n",
              "    .dataframe thead th {\n",
              "        text-align: right;\n",
              "    }\n",
              "</style>\n",
              "<table border=\"1\" class=\"dataframe\">\n",
              "  <thead>\n",
              "    <tr style=\"text-align: right;\">\n",
              "      <th></th>\n",
              "      <th>Model</th>\n",
              "      <th>RMSE</th>\n",
              "      <th>R2_Score(train)</th>\n",
              "      <th>R2_Score(test)</th>\n",
              "      <th>Cross-Validation</th>\n",
              "    </tr>\n",
              "  </thead>\n",
              "  <tbody>\n",
              "    <tr>\n",
              "      <th>0</th>\n",
              "      <td>Linear Regression</td>\n",
              "      <td>0.735977</td>\n",
              "      <td>0.607692</td>\n",
              "      <td>0.602623</td>\n",
              "      <td>0.459962</td>\n",
              "    </tr>\n",
              "    <tr>\n",
              "      <th>1</th>\n",
              "      <td>Decision Tree Regression</td>\n",
              "      <td>0.732600</td>\n",
              "      <td>1.000000</td>\n",
              "      <td>0.606261</td>\n",
              "      <td>0.618892</td>\n",
              "    </tr>\n",
              "    <tr>\n",
              "      <th>2</th>\n",
              "      <td>Polynomial Regression (2nd)</td>\n",
              "      <td>0.694738</td>\n",
              "      <td>0.691046</td>\n",
              "      <td>0.645907</td>\n",
              "      <td>-20.717779</td>\n",
              "    </tr>\n",
              "    <tr>\n",
              "      <th>3</th>\n",
              "      <td>Bayesian Ridge Regression</td>\n",
              "      <td>0.736013</td>\n",
              "      <td>0.607691</td>\n",
              "      <td>0.602583</td>\n",
              "      <td>0.459775</td>\n",
              "    </tr>\n",
              "    <tr>\n",
              "      <th>4</th>\n",
              "      <td>SVM</td>\n",
              "      <td>1.110291</td>\n",
              "      <td>0.742989</td>\n",
              "      <td>0.095624</td>\n",
              "      <td>0.088230</td>\n",
              "    </tr>\n",
              "    <tr>\n",
              "      <th>5</th>\n",
              "      <td>KNeighborsRegressor</td>\n",
              "      <td>1.083844</td>\n",
              "      <td>0.444075</td>\n",
              "      <td>0.138195</td>\n",
              "      <td>0.133285</td>\n",
              "    </tr>\n",
              "  </tbody>\n",
              "</table>\n",
              "</div>"
            ],
            "text/plain": [
              "                         Model      RMSE  ...  R2_Score(test)  Cross-Validation\n",
              "0            Linear Regression  0.735977  ...        0.602623          0.459962\n",
              "1     Decision Tree Regression  0.732600  ...        0.606261          0.618892\n",
              "2  Polynomial Regression (2nd)  0.694738  ...        0.645907        -20.717779\n",
              "3    Bayesian Ridge Regression  0.736013  ...        0.602583          0.459775\n",
              "4                          SVM  1.110291  ...        0.095624          0.088230\n",
              "5          KNeighborsRegressor  1.083844  ...        0.138195          0.133285\n",
              "\n",
              "[6 rows x 5 columns]"
            ]
          },
          "metadata": {
            "tags": []
          },
          "execution_count": 59
        }
      ]
    },
    {
      "cell_type": "code",
      "metadata": {
        "id": "AGc9SzQUsevL",
        "colab": {
          "base_uri": "https://localhost:8080/",
          "height": 393
        },
        "outputId": "5c8f7199-7fd2-4f20-f9b6-0f86f02ff14a"
      },
      "source": [
        "# visualizanto como gráfico\n",
        "\n",
        "f, axe = plt.subplots(1,1, figsize=(18,6))\n",
        "\n",
        "predict.sort_values(by=['Cross-Validation'], ascending=False, inplace=True)\n",
        "\n",
        "sns.barplot(x='Cross-Validation', y='Model', data = predict, ax = axe)\n",
        "axe.set_xlabel('Cross-Validaton Score', size=16)\n",
        "axe.set_ylabel('Model')\n",
        "axe.set_xlim(0,1.0)\n",
        "plt.show()"
      ],
      "execution_count": null,
      "outputs": [
        {
          "output_type": "display_data",
          "data": {
            "image/png": "[encoded data removed]",
            "text/plain": [
              "<Figure size 1296x432 with 1 Axes>"
            ]
          },
          "metadata": {
            "tags": []
          }
        }
      ]
    },
    {
      "cell_type": "code",
      "metadata": {
        "id": "Y8HLKGLos7W1",
        "colab": {
          "base_uri": "https://localhost:8080/",
          "height": 611
        },
        "outputId": "99104bee-fa06-4ee5-d9e3-63f6608d6d5e"
      },
      "source": [
        "f, axes = plt.subplots(2,1, figsize=(14,10))\n",
        "\n",
        "predict.sort_values(by=['R2_Score(train)'], ascending=False, inplace=True)\n",
        "\n",
        "sns.barplot(x='R2_Score(train)', y='Model', data = predict, palette='Blues_d', ax = axes[0])\n",
        "axes[0].set_xlabel('R2 Score (Training)', size=16)\n",
        "axes[0].set_ylabel('Model')\n",
        "axes[0].set_xlim(0,1.0)\n",
        "\n",
        "predict.sort_values(by=['R2_Score(test)'], ascending=False, inplace=True)\n",
        "\n",
        "sns.barplot(x='R2_Score(test)', y='Model', data = predict, palette='Reds_d', ax = axes[1])\n",
        "axes[1].set_xlabel('R2 Score (Test)', size=16)\n",
        "axes[1].set_ylabel('Model')\n",
        "axes[1].set_xlim(0,1.0)\n",
        "\n",
        "plt.show()"
      ],
      "execution_count": null,
      "outputs": [
        {
          "output_type": "display_data",
          "data": {
            "image/png": "[encoded data removed]",
            "text/plain": [
              "<Figure size 1008x720 with 2 Axes>"
            ]
          },
          "metadata": {
            "tags": []
          }
        }
      ]
    },
    {
      "cell_type": "code",
      "metadata": {
        "id": "QVEXFnGlsnq7",
        "colab": {
          "base_uri": "https://localhost:8080/",
          "height": 393
        },
        "outputId": "2491596a-a492-4da8-d9e6-34f66f1a3dda"
      },
      "source": [
        "predict.sort_values(by=['RMSE'], ascending=False, inplace=True)\n",
        "\n",
        "f, axe = plt.subplots(1,1, figsize=(18,6))\n",
        "sns.barplot(x='Model', y='RMSE', data=predict, ax = axe)\n",
        "axe.set_xlabel('Model', size=16)\n",
        "axe.set_ylabel('RMSE', size=16)\n",
        "\n",
        "plt.show()"
      ],
      "execution_count": null,
      "outputs": [
        {
          "output_type": "display_data",
          "data": {
            "image/png": "[encoded data removed]",
            "text/plain": [
              "<Figure size 1296x432 with 1 Axes>"
            ]
          },
          "metadata": {
            "tags": []
          }
        }
      ]
    }
  ]
}