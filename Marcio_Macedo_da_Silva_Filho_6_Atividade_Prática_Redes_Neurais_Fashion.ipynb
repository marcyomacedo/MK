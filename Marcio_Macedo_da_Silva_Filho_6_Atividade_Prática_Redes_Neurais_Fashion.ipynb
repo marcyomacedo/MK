{
  "nbformat": 4,
  "nbformat_minor": 0,
  "metadata": {
    "colab": {
      "name": "Marcio Macedo da Silva Filho - 6_Atividade_Prática_Redes_Neurais_Fashion.ipynb",
      "provenance": [],
      "collapsed_sections": [],
      "include_colab_link": true
    },
    "kernelspec": {
      "name": "python3",
      "display_name": "Python 3"
    }
  },
  "cells": [
    {
      "cell_type": "markdown",
      "metadata": {
        "id": "view-in-github",
        "colab_type": "text"
      },
      "source": [
        "<a href=\"https://colab.research.google.com/github/marcyomacedo/MK/blob/master/Marcio_Macedo_da_Silva_Filho_6_Atividade_Pr%C3%A1tica_Redes_Neurais_Fashion.ipynb\" target=\"_parent\"><img src=\"https://colab.research.google.com/assets/colab-badge.svg\" alt=\"Open In Colab\"/></a>"
      ]
    },
    {
      "cell_type": "markdown",
      "metadata": {
        "id": "A9goqCs8zjU3"
      },
      "source": [
        "# Atividade Prática Redes Neurais Fashion\n",
        "\n",
        "O objetivo desta prática é fazer com que vocês tenham um contato mínimo com Redes Neurais (numa perspectiva prática) e com um problema de classificação que exige um pouco mais de processamento. Além disso, desejo que vocês possam se atentar à formas de realizar plots (gráficos) mais interessantes para comprar resultados em projetos de classificação.\n",
        "\n",
        "O Projeto está utilizando o conjunto de dados (dataset) chamado **MNIST**, que classifica dígitos manuscritos já digitalizados. O objetivo é acompanhar cada trecho do código. Vocês deverão:\n",
        "\n",
        "1. Executar cada célula,\n",
        "2. Ver os resultados, e então\n",
        "3. Fazer a alteração do conjunto de dados para o **FASHION MINST** \n",
        "\n",
        "Este dataset FASHION MINST, é um dataset de imagens de roupas e artigos de uso pessoal.\n",
        "\n",
        "A prática se divide em seis (6) etapas: Exploração dos Dados, Aplicação de pré-processamento simples, Contrução do modelo, Trainamento, Avaliação do desempenho e, por fim, a realização de predições, ou seja seu uso."
      ]
    },
    {
      "cell_type": "markdown",
      "metadata": {
        "id": "t6vnZcPOKOvf"
      },
      "source": [
        "## Etapa 1 - Obtenção e Exploração dos Dados"
      ]
    },
    {
      "cell_type": "code",
      "metadata": {
        "id": "XU5mYVqOyrYe"
      },
      "source": [
        "# carregando as bibliotecas essenciais\n",
        "\n",
        "# TensorFlow e tf.keras\n",
        "import tensorflow as tf\n",
        "from tensorflow import keras\n",
        "\n",
        "# Outras bibliotecas auxiliares\n",
        "import numpy as np\n",
        "import matplotlib.pyplot as plt"
      ],
      "execution_count": null,
      "outputs": []
    },
    {
      "cell_type": "code",
      "metadata": {
        "id": "c8MdaeKxyklp",
        "colab": {
          "base_uri": "https://localhost:8080/"
        },
        "outputId": "17db9250-8852-403e-c824-cd62ad658b3b"
      },
      "source": [
        "# carregando o data set MNIST\n",
        "mnist = keras.datasets.mnist\n",
        "\n",
        "(train_images, train_labels), (test_images, test_labels) = mnist.load_data()"
      ],
      "execution_count": null,
      "outputs": [
        {
          "output_type": "stream",
          "text": [
            "Downloading data from https://storage.googleapis.com/tensorflow/tf-keras-datasets/mnist.npz\n",
            "11493376/11490434 [==============================] - 0s 0us/step\n"
          ],
          "name": "stdout"
        }
      ]
    },
    {
      "cell_type": "markdown",
      "metadata": {
        "id": "qo28CrRq0HKW"
      },
      "source": [
        "O comando anterior faz o download e carrega um conjunto de imagens que representam dígitos manuscritos. Uma descrição maior sobre o dataset pode ser obtida no seguinte endereço: \n",
        "\n",
        "*   https://keras.io/api/datasets/mnist/\n",
        "*   http://yann.lecun.com/exdb/mnist/\n",
        "\n",
        "De forma resumida o dataset é composto de 60 mil imagens de treinamento e de 10 mil imagens de teste. Cada imagem possuí 28x28 pixels e são armazenadas em formato de matrizes de 28x28 linhas e colunas em escala de cinza.\n",
        "\n",
        "Enquanto as variáveis (train, test)_images armazenam as os valores dos pixels, as variáveis (train, test)_labels armazenam as classes a que pertecem. Neste caso o número associado ao dígito."
      ]
    },
    {
      "cell_type": "code",
      "metadata": {
        "id": "ptKNyCcUpCpQ"
      },
      "source": [
        "# criando uma variável auxiliar para os gráficos com os nomes das classes\n",
        "class_names = ['zero', 'um', 'dois', 'três', 'quatro',\n",
        "               'cinco', 'seis', 'sete', 'oito', 'nove']"
      ],
      "execution_count": null,
      "outputs": []
    },
    {
      "cell_type": "code",
      "metadata": {
        "id": "5tqat50R0EgC",
        "colab": {
          "base_uri": "https://localhost:8080/"
        },
        "outputId": "4ab3fb26-49c2-4356-e0b8-2d19ae419790"
      },
      "source": [
        "# explorando informações sobre os dados\n",
        "# formato dos dados de entrada para treinamento\n",
        "print(f\"formato dos dados: {train_images.shape}\")\n",
        "\n",
        "# tamanho da quantidade de dados\n",
        "print(f\"tamanho do dataset, treino: {len(train_labels)} e teste: {len(test_labels)}\")\n",
        "\n",
        "# mostrando os valores únicos presente no vetor de classificação\n",
        "print(f\"valores únicos de y do dataset: {np.unique(train_labels)}\")"
      ],
      "execution_count": null,
      "outputs": [
        {
          "output_type": "stream",
          "text": [
            "formato dos dados: (60000, 28, 28)\n",
            "tamanho do dataset, treino: 60000 e teste: 10000\n",
            "valores únicos de y do dataset: [0 1 2 3 4 5 6 7 8 9]\n"
          ],
          "name": "stdout"
        }
      ]
    },
    {
      "cell_type": "markdown",
      "metadata": {
        "id": "WU54aFnk-Lk-"
      },
      "source": [
        "## Etapa 2 - Processamento inicial dos dados\n",
        "\n",
        "Nessa etapa, vamos vizualizar um exemplo de imagem, transformá-la em um tipo numérico normalizando os dados entre valores [0,1] e exibir um cojunto de exemplos como um grid de imagens."
      ]
    },
    {
      "cell_type": "code",
      "metadata": {
        "id": "hYV2fsovsZZ7",
        "colab": {
          "base_uri": "https://localhost:8080/",
          "height": 265
        },
        "outputId": "a2a9a600-1ce6-46dc-f477-14d6973de1ef"
      },
      "source": [
        "# criando uma vizualização com os dados antes da normalização\n",
        "plt.figure()\n",
        "plt.imshow(train_images[0])\n",
        "plt.colorbar()\n",
        "plt.grid(False)\n",
        "plt.show()"
      ],
      "execution_count": null,
      "outputs": [
        {
          "output_type": "display_data",
          "data": {
            "image/png": "[encoded data removed]",
            "text/plain": [
              "<Figure size 432x288 with 2 Axes>"
            ]
          },
          "metadata": {
            "tags": [],
            "needs_background": "light"
          }
        }
      ]
    },
    {
      "cell_type": "code",
      "metadata": {
        "id": "n6Zsp2kE-xU0",
        "colab": {
          "base_uri": "https://localhost:8080/"
        },
        "outputId": "2fdb252a-71f2-4689-f522-d7a507ab5256"
      },
      "source": [
        "# Para que a rede neural aprenda mais rápido, assim como fizemos em alguns \n",
        "# exemplos do scikit-learn, é necessário normalizar a imagem entre valores de [0, 1]\n",
        "\n",
        "print(f\"exemplo de dado antes do procesamento: {train_images[0, 5, :]}\")\n",
        "\n",
        "train_images = train_images / 255.0\n",
        "\n",
        "test_images = test_images / 255.0\n",
        "\n",
        "print(f\"exemplo de dado após o procesamento: {train_images[0, 5, :]}\")"
      ],
      "execution_count": null,
      "outputs": [
        {
          "output_type": "stream",
          "text": [
            "exemplo de dado antes do procesamento: [  0   0   0   0   0   0   0   0   0   0   0   0   3  18  18  18 126 136\n",
            " 175  26 166 255 247 127   0   0   0   0]\n",
            "exemplo de dado após o procesamento: [0.         0.         0.         0.         0.         0.\n",
            " 0.         0.         0.         0.         0.         0.\n",
            " 0.01176471 0.07058824 0.07058824 0.07058824 0.49411765 0.53333333\n",
            " 0.68627451 0.10196078 0.65098039 1.         0.96862745 0.49803922\n",
            " 0.         0.         0.         0.        ]\n"
          ],
          "name": "stdout"
        }
      ]
    },
    {
      "cell_type": "code",
      "metadata": {
        "id": "s8Y6I3e__fz1",
        "colab": {
          "base_uri": "https://localhost:8080/",
          "height": 589
        },
        "outputId": "4cead768-7efb-4e62-cdc5-108ac1f44083"
      },
      "source": [
        "# criando uma vizualização dos 25 primeiros exemplos contidos no dataset\n",
        "# porém agora na escala de cinza, com cores de 0 a 1\n",
        "\n",
        "plt.figure(figsize=(10,10))\n",
        "for i in range(25):\n",
        "    plt.subplot(5,5,i+1)\n",
        "    plt.xticks([])   # retira as marcações de x e y \n",
        "    plt.yticks([])\n",
        "    plt.grid(False)  # retira as linhas do grid\n",
        "    plt.imshow(train_images[i], cmap=plt.cm.binary)\n",
        "    plt.xlabel(class_names[train_labels[i]])   # adiciona os nomes das classes (nomes dos digitos)\n",
        "plt.show()"
      ],
      "execution_count": null,
      "outputs": [
        {
          "output_type": "display_data",
          "data": {
            "image/png": "[encoded data removed]",
            "text/plain": [
              "<Figure size 720x720 with 25 Axes>"
            ]
          },
          "metadata": {
            "tags": []
          }
        }
      ]
    },
    {
      "cell_type": "markdown",
      "metadata": {
        "id": "wa9HVFV7AA7X"
      },
      "source": [
        "## 3 - Construindo o Modelo Neural\n",
        "\n",
        "Diferente dos modelos do scikit-learn, no keras é necessário definir um modelo a partir de componentes. Cada rede neural pode ter diferentes tipos de camadas de neurônios e difentes quantidades de neurônios por camada.\n",
        "\n",
        "\n"
      ]
    },
    {
      "cell_type": "code",
      "metadata": {
        "id": "m3Dyxv02A06E"
      },
      "source": [
        "# cria a variável modelo e atribui a ela uma rede neural\n",
        "\n",
        "model = keras.Sequential([\n",
        "    # essa camada transforma os dados do formato 28x28 para 784,1\n",
        "    keras.layers.Flatten(input_shape=(28, 28)),   \n",
        "    \n",
        "    # essa camada tem 128 neurônios \n",
        "    keras.layers.Dense(128, activation='relu'), \n",
        "\n",
        "    # essa tem 10 neurônios, é obrigatório manter 10 porque é exatamente o mesmo número de classes que existe\n",
        "    keras.layers.Dense(10, activation='softmax')  \n",
        "])"
      ],
      "execution_count": null,
      "outputs": []
    },
    {
      "cell_type": "code",
      "metadata": {
        "id": "vhvJqdetBV9I"
      },
      "source": [
        "# agora é necessário 'compilar' (fazer a rede se montar) o modelo\n",
        "model.compile(optimizer='adam',\n",
        "              loss='sparse_categorical_crossentropy',\n",
        "              metrics=['accuracy'])"
      ],
      "execution_count": null,
      "outputs": []
    },
    {
      "cell_type": "markdown",
      "metadata": {
        "id": "eZyt_Ja8BeVo"
      },
      "source": [
        "## 4 - Treinamento do modelo\n",
        "\n",
        "Até então os modelos e problemas que fizemos anteriormente no scikit-learn não demandaram excessivo processamento. Com redes neurais pode ser um pouco diferente, dependendo sobretudo da quantidade de dados e na quantidade de neurônios na arquitetura (quanto mais neurônios maior o tempo necessário)."
      ]
    },
    {
      "cell_type": "code",
      "metadata": {
        "id": "VzgbChKqCKXE",
        "colab": {
          "base_uri": "https://localhost:8080/"
        },
        "outputId": "0e99685b-4d91-4dfd-fc0d-ba69e4d696f0"
      },
      "source": [
        "# treinamento o modelo (é o mesmo método utilizado no scikit-learn)\n",
        "model.fit(train_images, train_labels, epochs=10)"
      ],
      "execution_count": null,
      "outputs": [
        {
          "output_type": "stream",
          "text": [
            "Epoch 1/10\n",
            "1875/1875 [==============================] - 5s 2ms/step - loss: 0.4312 - accuracy: 0.8778\n",
            "Epoch 2/10\n",
            "1875/1875 [==============================] - 4s 2ms/step - loss: 0.1210 - accuracy: 0.9647\n",
            "Epoch 3/10\n",
            "1875/1875 [==============================] - 4s 2ms/step - loss: 0.0763 - accuracy: 0.9757\n",
            "Epoch 4/10\n",
            "1875/1875 [==============================] - 4s 2ms/step - loss: 0.0516 - accuracy: 0.9842\n",
            "Epoch 5/10\n",
            "1875/1875 [==============================] - 4s 2ms/step - loss: 0.0416 - accuracy: 0.9877\n",
            "Epoch 6/10\n",
            "1875/1875 [==============================] - 4s 2ms/step - loss: 0.0308 - accuracy: 0.9910\n",
            "Epoch 7/10\n",
            "1875/1875 [==============================] - 4s 2ms/step - loss: 0.0239 - accuracy: 0.9931\n",
            "Epoch 8/10\n",
            "1875/1875 [==============================] - 4s 2ms/step - loss: 0.0175 - accuracy: 0.9954\n",
            "Epoch 9/10\n",
            "1875/1875 [==============================] - 4s 2ms/step - loss: 0.0167 - accuracy: 0.9949\n",
            "Epoch 10/10\n",
            "1875/1875 [==============================] - 4s 2ms/step - loss: 0.0128 - accuracy: 0.9962\n"
          ],
          "name": "stdout"
        },
        {
          "output_type": "execute_result",
          "data": {
            "text/plain": [
              "<tensorflow.python.keras.callbacks.History at 0x7f8068a2dcd0>"
            ]
          },
          "metadata": {
            "tags": []
          },
          "execution_count": 10
        }
      ]
    },
    {
      "cell_type": "markdown",
      "metadata": {
        "id": "5XMk03K9CSth"
      },
      "source": [
        "## 5 - Avaliação a partir da acurácia\n",
        "\n",
        "O método utilizado para avaliar aqui será a acurácia"
      ]
    },
    {
      "cell_type": "code",
      "metadata": {
        "id": "ScZJds4OCb11",
        "colab": {
          "base_uri": "https://localhost:8080/"
        },
        "outputId": "66e7ca08-ce76-4114-ba89-4ab3e16d1f93"
      },
      "source": [
        "test_loss, test_acc = model.evaluate(test_images,  test_labels, verbose=2)\n",
        "\n",
        "print(f\"Acurácia do conjunto de teste: {test_acc}\")"
      ],
      "execution_count": null,
      "outputs": [
        {
          "output_type": "stream",
          "text": [
            "313/313 - 0s - loss: 0.0859 - accuracy: 0.9772\n",
            "Acurácia do conjunto de teste: 0.9771999716758728\n"
          ],
          "name": "stdout"
        }
      ]
    },
    {
      "cell_type": "markdown",
      "metadata": {
        "id": "Q_y2I5IICzrG"
      },
      "source": [
        "Para essa estrutura de rede o treinamento gera um bom nível de aprendizagem para esse dataset"
      ]
    },
    {
      "cell_type": "markdown",
      "metadata": {
        "id": "U78iSqC4C53r"
      },
      "source": [
        "## 6 - Fazendo predições, a melhor parte!\n",
        "\n",
        "Nesta sequência de códigos o objetivo é criar duas funções:\n",
        "1. plotar e comparar uma imagem (X) e sua classe (y) dados pelo modelo já previamente treinados\n",
        "2. plotar uma sequência de imagens mostram o valor predito e a imagem do valor real (X)\n",
        "\n",
        "Observem que as barras em azul são valores corretos e em vermelho valores incorretos. Tente ler e entender o que ocorre em cada conjunto de códigos a seguir"
      ]
    },
    {
      "cell_type": "code",
      "metadata": {
        "id": "PN8MhobMDnZy",
        "colab": {
          "base_uri": "https://localhost:8080/"
        },
        "outputId": "110ea47c-3771-4e00-c413-f74a3d6e61e5"
      },
      "source": [
        "# comando para predizer\n",
        "predictions = model.predict(test_images)\n",
        "\n",
        "print(f\"predições de exemplo: {predictions[0]}\")"
      ],
      "execution_count": null,
      "outputs": [
        {
          "output_type": "stream",
          "text": [
            "predições de exemplo: [1.31749922e-09 9.09029310e-11 5.03063745e-07 7.07168681e-07\n",
            " 1.53044041e-13 1.01787426e-10 8.37647063e-13 9.99998331e-01\n",
            " 1.12731291e-08 4.88951457e-07]\n"
          ],
          "name": "stdout"
        }
      ]
    },
    {
      "cell_type": "markdown",
      "metadata": {
        "id": "ZMxdTOAZDyJR"
      },
      "source": [
        "O código anterior mostra que a saída predita tem 10 valores, a posição com o maior valor indica o que o modelo acredita ser o valor de entrada de (X). Neste caso, para o valor de teste, ele acredita que seja o índice 7 (corresponde ao dígito 8), pois é índice com maior saída."
      ]
    },
    {
      "cell_type": "code",
      "metadata": {
        "id": "QDkth8YgEDVt",
        "colab": {
          "base_uri": "https://localhost:8080/"
        },
        "outputId": "bbed55bf-ad87-4fe7-ae5b-fd8fb3746d32"
      },
      "source": [
        "# checando o índice de maior valor\n",
        "np.argmax(predictions[0])"
      ],
      "execution_count": null,
      "outputs": [
        {
          "output_type": "execute_result",
          "data": {
            "text/plain": [
              "7"
            ]
          },
          "metadata": {
            "tags": []
          },
          "execution_count": 13
        }
      ]
    },
    {
      "cell_type": "code",
      "metadata": {
        "id": "YNL7BQnkEQWJ",
        "colab": {
          "base_uri": "https://localhost:8080/"
        },
        "outputId": "9f4a6d2c-74f9-419b-c250-800b7c9bfebd"
      },
      "source": [
        "# resultado real diz que ele acertou\n",
        "test_labels[0]"
      ],
      "execution_count": null,
      "outputs": [
        {
          "output_type": "execute_result",
          "data": {
            "text/plain": [
              "7"
            ]
          },
          "metadata": {
            "tags": []
          },
          "execution_count": 14
        }
      ]
    },
    {
      "cell_type": "markdown",
      "metadata": {
        "id": "hOpodGJNEV06"
      },
      "source": [
        "Agora são definidas duas funções para melhor enxergar o resultado."
      ]
    },
    {
      "cell_type": "code",
      "metadata": {
        "id": "Qm4KS7o3EZaH"
      },
      "source": [
        "# função para plotar a imagem\n",
        "def plot_image(i, predictions_array, true_label, img):\n",
        "  predictions_array, true_label, img = predictions_array[i], true_label[i], img[i]\n",
        "  plt.grid(False)\n",
        "  plt.xticks([])\n",
        "  plt.yticks([])\n",
        "\n",
        "  plt.imshow(img, cmap=plt.cm.binary)\n",
        "\n",
        "  predicted_label = np.argmax(predictions_array)\n",
        "  if predicted_label == true_label:\n",
        "    color = 'blue'\n",
        "  else:\n",
        "    color = 'red'\n",
        "\n",
        "  plt.xlabel(\"{} {:2.0f}% ({})\".format(class_names[predicted_label],\n",
        "                                100*np.max(predictions_array),\n",
        "                                class_names[true_label]),\n",
        "                                color=color)\n",
        "\n",
        "# função para plotar um gráfico em barras com os valores preditos (saída y do modelo)\n",
        "def plot_value_array(i, predictions_array, true_label):\n",
        "  predictions_array, true_label = predictions_array[i], true_label[i]\n",
        "  plt.grid(False)\n",
        "  plt.xticks([])\n",
        "  plt.yticks([])\n",
        "  thisplot = plt.bar(range(10), predictions_array, color=\"#777777\")\n",
        "  plt.ylim([0, 1])\n",
        "  predicted_label = np.argmax(predictions_array)\n",
        "\n",
        "  thisplot[predicted_label].set_color('red')\n",
        "  thisplot[true_label].set_color('blue')\n"
      ],
      "execution_count": null,
      "outputs": []
    },
    {
      "cell_type": "code",
      "metadata": {
        "id": "YpapiBcUEkv7",
        "colab": {
          "base_uri": "https://localhost:8080/",
          "height": 203
        },
        "outputId": "b81a828f-cf75-474a-b746-a0df51407f42"
      },
      "source": [
        "# usando o código anterior para um exemplo\n",
        "i = 0\n",
        "plt.figure(figsize=(6,3))\n",
        "plt.subplot(1,2,1)\n",
        "plot_image(i, predictions, test_labels, test_images)\n",
        "plt.subplot(1,2,2)\n",
        "plot_value_array(i, predictions,  test_labels)\n",
        "plt.show()"
      ],
      "execution_count": null,
      "outputs": [
        {
          "output_type": "display_data",
          "data": {
            "image/png": "[encoded data removed]",
            "text/plain": [
              "<Figure size 432x216 with 2 Axes>"
            ]
          },
          "metadata": {
            "tags": []
          }
        }
      ]
    },
    {
      "cell_type": "code",
      "metadata": {
        "id": "MwocZ66SEosW",
        "colab": {
          "base_uri": "https://localhost:8080/",
          "height": 203
        },
        "outputId": "9630972d-2f2b-4272-f9e2-adaecad213ba"
      },
      "source": [
        "# um segundo exemplo impreciso\n",
        "i = 115\n",
        "plt.figure(figsize=(6,3))\n",
        "plt.subplot(1,2,1)\n",
        "plot_image(i, predictions, test_labels, test_images)\n",
        "plt.subplot(1,2,2)\n",
        "plot_value_array(i, predictions,  test_labels)\n",
        "plt.show()"
      ],
      "execution_count": null,
      "outputs": [
        {
          "output_type": "display_data",
          "data": {
            "image/png": "[encoded data removed]",
            "text/plain": [
              "<Figure size 432x216 with 2 Axes>"
            ]
          },
          "metadata": {
            "tags": []
          }
        }
      ]
    },
    {
      "cell_type": "code",
      "metadata": {
        "id": "7RaLX1o7FCYf",
        "colab": {
          "base_uri": "https://localhost:8080/",
          "height": 480
        },
        "outputId": "c5dff546-cc50-4113-d7a1-cb05e828110d"
      },
      "source": [
        "# um exemplo com mais plots de uma só vez\n",
        "# predições corretas em azul e as incorretas de vermelho\n",
        "\n",
        "num_rows = 4\n",
        "num_cols = 3\n",
        "num_images = num_rows*num_cols\n",
        "\n",
        "plt.figure(figsize=(2*2*num_cols, 2*num_rows))\n",
        "for i in range(num_images):\n",
        "  plt.subplot(num_rows, 2*num_cols, 2*i+1)\n",
        "  plot_image(i, predictions, test_labels, test_images)\n",
        "  plt.subplot(num_rows, 2*num_cols, 2*i+2)\n",
        "  plot_value_array(i, predictions, test_labels)\n",
        "plt.show()"
      ],
      "execution_count": null,
      "outputs": [
        {
          "output_type": "display_data",
          "data": {
            "image/png": "[encoded data removed]",
            "text/plain": [
              "<Figure size 864x576 with 24 Axes>"
            ]
          },
          "metadata": {
            "tags": []
          }
        }
      ]
    },
    {
      "cell_type": "markdown",
      "metadata": {
        "id": "ExdyIUQuy_uR"
      },
      "source": [
        "## Útima etapa: Alterar o código para funcionar com o dataset Fashion MINST\n",
        "\n",
        "Como etapa de trabalho, vocês precisarão alterar o código para funcionar com o Fashion MINST. O código a seguir pode auxiliar para baixar o dataset.\n",
        "\n",
        "```\n",
        "fashion_mnist = keras.datasets.fashion_mnist\n",
        "\n",
        "(train_images, train_labels), (test_images, test_labels) = fashion_mnist.load_data()\n",
        "```\n",
        "\n",
        "lembrem-se de criar a variável auxiliar para nomear as classes:\n",
        "\n",
        "```\n",
        "class_names = ['camiseta/top', 'calça', 'suéter', 'vestido', 'casaco', sandália', 'camisa', 'tênis', 'bola', 'bota']\n",
        "```\n",
        "\n",
        "Experimentem mudar os valores de neurônios na primeira camada Densa, mudando o valor de 128 para 10, 20, 60 e 300 e veja o que acontece ao resultado do modelo.\n",
        "\n",
        "\n",
        "\n",
        "```\n",
        "model = keras.Sequential([\n",
        "    keras.layers.Flatten(input_shape=(28, 28)),\n",
        "    keras.layers.Dense(128, activation='relu'),  <== NESSA LINHA  [altere o 128 para valores como: 10 ou 20 ou 60 ou 300\n",
        "    keras.layers.Dense(10, activation='softmax')\n",
        "])\n",
        "\n",
        "```"
      ]
    },
    {
      "cell_type": "markdown",
      "metadata": {
        "id": "jpOg_kPF1-_6"
      },
      "source": [
        "**Carregamento do Datashet Fashion MNIST**"
      ]
    },
    {
      "cell_type": "code",
      "metadata": {
        "id": "SwZtI-_C2CM3"
      },
      "source": [
        "fashion_mnist = keras.datasets.fashion_mnist\n",
        "(train_images, train_labels), (test_images, test_labels) = fashion_mnist.load_data()"
      ],
      "execution_count": null,
      "outputs": []
    },
    {
      "cell_type": "markdown",
      "metadata": {
        "id": "VschN8KG2KRV"
      },
      "source": [
        "**Visualização dos dados**"
      ]
    },
    {
      "cell_type": "code",
      "metadata": {
        "id": "8XBa64WY2SWq",
        "colab": {
          "base_uri": "https://localhost:8080/"
        },
        "outputId": "f34a530d-d1d5-4c90-bb49-ef827f8f2fed"
      },
      "source": [
        "train_images[1]"
      ],
      "execution_count": null,
      "outputs": [
        {
          "output_type": "execute_result",
          "data": {
            "text/plain": [
              "array([[  0,   0,   0,   0,   0,   1,   0,   0,   0,   0,  41, 188, 103,\n",
              "         54,  48,  43,  87, 168, 133,  16,   0,   0,   0,   0,   0,   0,\n",
              "          0,   0],\n",
              "       [  0,   0,   0,   1,   0,   0,   0,  49, 136, 219, 216, 228, 236,\n",
              "        255, 255, 255, 255, 217, 215, 254, 231, 160,  45,   0,   0,   0,\n",
              "          0,   0],\n",
              "       [  0,   0,   0,   0,   0,  14, 176, 222, 224, 212, 203, 198, 196,\n",
              "        200, 215, 204, 202, 201, 201, 201, 209, 218, 224, 164,   0,   0,\n",
              "          0,   0],\n",
              "       [  0,   0,   0,   0,   0, 188, 219, 200, 198, 202, 198, 199, 199,\n",
              "        201, 196, 198, 198, 200, 200, 200, 200, 201, 200, 225,  41,   0,\n",
              "          0,   0],\n",
              "       [  0,   0,   0,   0,  51, 219, 199, 203, 203, 212, 238, 248, 250,\n",
              "        245, 249, 246, 247, 252, 248, 235, 207, 203, 203, 222, 140,   0,\n",
              "          0,   0],\n",
              "       [  0,   0,   0,   0, 116, 226, 206, 204, 207, 204, 101,  75,  47,\n",
              "         73,  48,  50,  45,  51,  63, 113, 222, 202, 206, 220, 224,   0,\n",
              "          0,   0],\n",
              "       [  0,   0,   0,   0, 200, 222, 209, 203, 215, 200,   0,  70,  98,\n",
              "          0, 103,  59,  68,  71,  49,   0, 219, 206, 214, 210, 250,  38,\n",
              "          0,   0],\n",
              "       [  0,   0,   0,   0, 247, 218, 212, 210, 215, 214,   0, 254, 243,\n",
              "        139, 255, 174, 251, 255, 205,   0, 215, 217, 214, 208, 220,  95,\n",
              "          0,   0],\n",
              "       [  0,   0,   0,  45, 226, 214, 214, 215, 224, 205,   0,  42,  35,\n",
              "         60,  16,  17,  12,  13,  70,   0, 189, 216, 212, 206, 212, 156,\n",
              "          0,   0],\n",
              "       [  0,   0,   0, 164, 235, 214, 211, 220, 216, 201,  52,  71,  89,\n",
              "         94,  83,  78,  70,  76,  92,  87, 206, 207, 222, 213, 219, 208,\n",
              "          0,   0],\n",
              "       [  0,   0,   0, 106, 187, 223, 237, 248, 211, 198, 252, 250, 248,\n",
              "        245, 248, 252, 253, 250, 252, 239, 201, 212, 225, 215, 193, 113,\n",
              "          0,   0],\n",
              "       [  0,   0,   0,   0,   0,  17,  54, 159, 222, 193, 208, 192, 197,\n",
              "        200, 200, 200, 200, 201, 203, 195, 210, 165,   0,   0,   0,   0,\n",
              "          0,   0],\n",
              "       [  0,   0,   0,   0,   0,   0,   0,  47, 225, 192, 214, 203, 206,\n",
              "        204, 204, 205, 206, 204, 212, 197, 218, 107,   0,   0,   0,   0,\n",
              "          0,   0],\n",
              "       [  0,   0,   0,   0,   1,   6,   0,  46, 212, 195, 212, 202, 206,\n",
              "        205, 204, 205, 206, 204, 212, 200, 218,  91,   0,   3,   1,   0,\n",
              "          0,   0],\n",
              "       [  0,   0,   0,   0,   0,   1,   0,  11, 197, 199, 205, 202, 205,\n",
              "        206, 204, 205, 207, 204, 205, 205, 218,  77,   0,   5,   0,   0,\n",
              "          0,   0],\n",
              "       [  0,   0,   0,   0,   0,   3,   0,   2, 191, 198, 201, 205, 206,\n",
              "        205, 205, 206, 209, 206, 199, 209, 219,  74,   0,   5,   0,   0,\n",
              "          0,   0],\n",
              "       [  0,   0,   0,   0,   0,   2,   0,   0, 188, 197, 200, 207, 207,\n",
              "        204, 207, 207, 210, 208, 198, 207, 221,  72,   0,   4,   0,   0,\n",
              "          0,   0],\n",
              "       [  0,   0,   0,   0,   0,   2,   0,   0, 215, 198, 203, 206, 208,\n",
              "        205, 207, 207, 210, 208, 200, 202, 222,  75,   0,   4,   0,   0,\n",
              "          0,   0],\n",
              "       [  0,   0,   0,   0,   0,   1,   0,   0, 212, 198, 209, 206, 209,\n",
              "        206, 208, 207, 211, 206, 205, 198, 221,  80,   0,   3,   0,   0,\n",
              "          0,   0],\n",
              "       [  0,   0,   0,   0,   0,   1,   0,   0, 204, 201, 205, 208, 207,\n",
              "        205, 211, 205, 210, 210, 209, 195, 221,  96,   0,   3,   0,   0,\n",
              "          0,   0],\n",
              "       [  0,   0,   0,   0,   0,   1,   0,   0, 202, 201, 205, 209, 207,\n",
              "        205, 213, 206, 210, 209, 210, 194, 217, 105,   0,   2,   0,   0,\n",
              "          0,   0],\n",
              "       [  0,   0,   0,   0,   0,   1,   0,   0, 204, 204, 205, 208, 207,\n",
              "        205, 215, 207, 210, 208, 211, 193, 213, 115,   0,   2,   0,   0,\n",
              "          0,   0],\n",
              "       [  0,   0,   0,   0,   0,   0,   0,   0, 204, 207, 207, 208, 206,\n",
              "        206, 215, 210, 210, 207, 212, 195, 210, 118,   0,   2,   0,   0,\n",
              "          0,   0],\n",
              "       [  0,   0,   0,   0,   0,   1,   0,   0, 198, 208, 208, 208, 204,\n",
              "        207, 212, 212, 210, 207, 211, 196, 207, 121,   0,   1,   0,   0,\n",
              "          0,   0],\n",
              "       [  0,   0,   0,   0,   0,   1,   0,   0, 198, 210, 207, 208, 206,\n",
              "        209, 213, 212, 211, 207, 210, 197, 207, 124,   0,   1,   0,   0,\n",
              "          0,   0],\n",
              "       [  0,   0,   0,   0,   0,   0,   0,   0, 172, 210, 203, 201, 199,\n",
              "        204, 207, 205, 204, 201, 205, 197, 206, 127,   0,   0,   0,   0,\n",
              "          0,   0],\n",
              "       [  0,   0,   0,   0,   0,   0,   0,   0, 188, 221, 214, 234, 236,\n",
              "        238, 244, 244, 244, 240, 243, 214, 224, 162,   0,   2,   0,   0,\n",
              "          0,   0],\n",
              "       [  0,   0,   0,   0,   0,   1,   0,   0, 139, 146, 130, 135, 135,\n",
              "        137, 125, 124, 125, 121, 119, 114, 130,  76,   0,   0,   0,   0,\n",
              "          0,   0]], dtype=uint8)"
            ]
          },
          "metadata": {
            "tags": []
          },
          "execution_count": 41
        }
      ]
    },
    {
      "cell_type": "code",
      "metadata": {
        "id": "-aELWq5I5dXg"
      },
      "source": [
        "# variavel auxiliar\n",
        "class_names = ['camiseta/top', 'calça', 'suéter', 'vestido', 'casaco', 'sandália', 'camisa', 'tênis', 'bolsa', 'bota']"
      ],
      "execution_count": null,
      "outputs": []
    },
    {
      "cell_type": "code",
      "metadata": {
        "id": "Dqopw4HCXDdP",
        "colab": {
          "base_uri": "https://localhost:8080/"
        },
        "outputId": "28ceea19-e421-4d7e-dcdd-1757e956c91b"
      },
      "source": [
        "# criando uma vizualização com os dados antes da normalização\n",
        "print(f\"formato dos dados: {train_images.shape}\")\n",
        "\n",
        "print(f\"tamanho do dataset, treino: {len(train_labels)} e teste: {len(test_labels)}\")\n",
        "\n",
        "print(f\"valores únicos de y do dataset: {np.unique(train_labels)}\")"
      ],
      "execution_count": null,
      "outputs": [
        {
          "output_type": "stream",
          "text": [
            "formato dos dados: (60000, 28, 28)\n",
            "tamanho do dataset, treino: 60000 e teste: 10000\n",
            "valores únicos de y do dataset: [0 1 2 3 4 5 6 7 8 9]\n"
          ],
          "name": "stdout"
        }
      ]
    },
    {
      "cell_type": "code",
      "metadata": {
        "id": "X1xhmF1Iu_Ut",
        "colab": {
          "base_uri": "https://localhost:8080/"
        },
        "outputId": "7833b740-5438-46ad-d7ff-fb7909c750e0"
      },
      "source": [
        "train_images[1]"
      ],
      "execution_count": null,
      "outputs": [
        {
          "output_type": "execute_result",
          "data": {
            "text/plain": [
              "array([[  0,   0,   0,   0,   0,   1,   0,   0,   0,   0,  41, 188, 103,\n",
              "         54,  48,  43,  87, 168, 133,  16,   0,   0,   0,   0,   0,   0,\n",
              "          0,   0],\n",
              "       [  0,   0,   0,   1,   0,   0,   0,  49, 136, 219, 216, 228, 236,\n",
              "        255, 255, 255, 255, 217, 215, 254, 231, 160,  45,   0,   0,   0,\n",
              "          0,   0],\n",
              "       [  0,   0,   0,   0,   0,  14, 176, 222, 224, 212, 203, 198, 196,\n",
              "        200, 215, 204, 202, 201, 201, 201, 209, 218, 224, 164,   0,   0,\n",
              "          0,   0],\n",
              "       [  0,   0,   0,   0,   0, 188, 219, 200, 198, 202, 198, 199, 199,\n",
              "        201, 196, 198, 198, 200, 200, 200, 200, 201, 200, 225,  41,   0,\n",
              "          0,   0],\n",
              "       [  0,   0,   0,   0,  51, 219, 199, 203, 203, 212, 238, 248, 250,\n",
              "        245, 249, 246, 247, 252, 248, 235, 207, 203, 203, 222, 140,   0,\n",
              "          0,   0],\n",
              "       [  0,   0,   0,   0, 116, 226, 206, 204, 207, 204, 101,  75,  47,\n",
              "         73,  48,  50,  45,  51,  63, 113, 222, 202, 206, 220, 224,   0,\n",
              "          0,   0],\n",
              "       [  0,   0,   0,   0, 200, 222, 209, 203, 215, 200,   0,  70,  98,\n",
              "          0, 103,  59,  68,  71,  49,   0, 219, 206, 214, 210, 250,  38,\n",
              "          0,   0],\n",
              "       [  0,   0,   0,   0, 247, 218, 212, 210, 215, 214,   0, 254, 243,\n",
              "        139, 255, 174, 251, 255, 205,   0, 215, 217, 214, 208, 220,  95,\n",
              "          0,   0],\n",
              "       [  0,   0,   0,  45, 226, 214, 214, 215, 224, 205,   0,  42,  35,\n",
              "         60,  16,  17,  12,  13,  70,   0, 189, 216, 212, 206, 212, 156,\n",
              "          0,   0],\n",
              "       [  0,   0,   0, 164, 235, 214, 211, 220, 216, 201,  52,  71,  89,\n",
              "         94,  83,  78,  70,  76,  92,  87, 206, 207, 222, 213, 219, 208,\n",
              "          0,   0],\n",
              "       [  0,   0,   0, 106, 187, 223, 237, 248, 211, 198, 252, 250, 248,\n",
              "        245, 248, 252, 253, 250, 252, 239, 201, 212, 225, 215, 193, 113,\n",
              "          0,   0],\n",
              "       [  0,   0,   0,   0,   0,  17,  54, 159, 222, 193, 208, 192, 197,\n",
              "        200, 200, 200, 200, 201, 203, 195, 210, 165,   0,   0,   0,   0,\n",
              "          0,   0],\n",
              "       [  0,   0,   0,   0,   0,   0,   0,  47, 225, 192, 214, 203, 206,\n",
              "        204, 204, 205, 206, 204, 212, 197, 218, 107,   0,   0,   0,   0,\n",
              "          0,   0],\n",
              "       [  0,   0,   0,   0,   1,   6,   0,  46, 212, 195, 212, 202, 206,\n",
              "        205, 204, 205, 206, 204, 212, 200, 218,  91,   0,   3,   1,   0,\n",
              "          0,   0],\n",
              "       [  0,   0,   0,   0,   0,   1,   0,  11, 197, 199, 205, 202, 205,\n",
              "        206, 204, 205, 207, 204, 205, 205, 218,  77,   0,   5,   0,   0,\n",
              "          0,   0],\n",
              "       [  0,   0,   0,   0,   0,   3,   0,   2, 191, 198, 201, 205, 206,\n",
              "        205, 205, 206, 209, 206, 199, 209, 219,  74,   0,   5,   0,   0,\n",
              "          0,   0],\n",
              "       [  0,   0,   0,   0,   0,   2,   0,   0, 188, 197, 200, 207, 207,\n",
              "        204, 207, 207, 210, 208, 198, 207, 221,  72,   0,   4,   0,   0,\n",
              "          0,   0],\n",
              "       [  0,   0,   0,   0,   0,   2,   0,   0, 215, 198, 203, 206, 208,\n",
              "        205, 207, 207, 210, 208, 200, 202, 222,  75,   0,   4,   0,   0,\n",
              "          0,   0],\n",
              "       [  0,   0,   0,   0,   0,   1,   0,   0, 212, 198, 209, 206, 209,\n",
              "        206, 208, 207, 211, 206, 205, 198, 221,  80,   0,   3,   0,   0,\n",
              "          0,   0],\n",
              "       [  0,   0,   0,   0,   0,   1,   0,   0, 204, 201, 205, 208, 207,\n",
              "        205, 211, 205, 210, 210, 209, 195, 221,  96,   0,   3,   0,   0,\n",
              "          0,   0],\n",
              "       [  0,   0,   0,   0,   0,   1,   0,   0, 202, 201, 205, 209, 207,\n",
              "        205, 213, 206, 210, 209, 210, 194, 217, 105,   0,   2,   0,   0,\n",
              "          0,   0],\n",
              "       [  0,   0,   0,   0,   0,   1,   0,   0, 204, 204, 205, 208, 207,\n",
              "        205, 215, 207, 210, 208, 211, 193, 213, 115,   0,   2,   0,   0,\n",
              "          0,   0],\n",
              "       [  0,   0,   0,   0,   0,   0,   0,   0, 204, 207, 207, 208, 206,\n",
              "        206, 215, 210, 210, 207, 212, 195, 210, 118,   0,   2,   0,   0,\n",
              "          0,   0],\n",
              "       [  0,   0,   0,   0,   0,   1,   0,   0, 198, 208, 208, 208, 204,\n",
              "        207, 212, 212, 210, 207, 211, 196, 207, 121,   0,   1,   0,   0,\n",
              "          0,   0],\n",
              "       [  0,   0,   0,   0,   0,   1,   0,   0, 198, 210, 207, 208, 206,\n",
              "        209, 213, 212, 211, 207, 210, 197, 207, 124,   0,   1,   0,   0,\n",
              "          0,   0],\n",
              "       [  0,   0,   0,   0,   0,   0,   0,   0, 172, 210, 203, 201, 199,\n",
              "        204, 207, 205, 204, 201, 205, 197, 206, 127,   0,   0,   0,   0,\n",
              "          0,   0],\n",
              "       [  0,   0,   0,   0,   0,   0,   0,   0, 188, 221, 214, 234, 236,\n",
              "        238, 244, 244, 244, 240, 243, 214, 224, 162,   0,   2,   0,   0,\n",
              "          0,   0],\n",
              "       [  0,   0,   0,   0,   0,   1,   0,   0, 139, 146, 130, 135, 135,\n",
              "        137, 125, 124, 125, 121, 119, 114, 130,  76,   0,   0,   0,   0,\n",
              "          0,   0]], dtype=uint8)"
            ]
          },
          "metadata": {
            "tags": []
          },
          "execution_count": 44
        }
      ]
    },
    {
      "cell_type": "code",
      "metadata": {
        "id": "2LBgf6pMxRSX",
        "colab": {
          "base_uri": "https://localhost:8080/"
        },
        "outputId": "0a322c17-8f17-4ca6-e8e6-0d545531b3f3"
      },
      "source": [
        "train_images.shape"
      ],
      "execution_count": null,
      "outputs": [
        {
          "output_type": "execute_result",
          "data": {
            "text/plain": [
              "(60000, 28, 28)"
            ]
          },
          "metadata": {
            "tags": []
          },
          "execution_count": 45
        }
      ]
    },
    {
      "cell_type": "code",
      "metadata": {
        "id": "QxOIctgXHBOk",
        "colab": {
          "base_uri": "https://localhost:8080/"
        },
        "outputId": "152a74b1-d1dd-4d26-90b4-f5dbc8de60b8"
      },
      "source": [
        "# criando uma vizualização dos 25 primeiros exemplos contidos no dataset\n",
        "# porém agora na escala de cinza, com cores de 0 a 1\n",
        "\n",
        "print(f\"exemplo de dado antes do procesamento: {train_images[0, 5, :]}\")\n",
        "\n",
        "train_images = train_images / 255.0\n",
        "\n",
        "test_images = test_images / 255.0\n",
        "\n",
        "print(f\"exemplo de dado após o procesamento: {train_images[0, 5, :]}\")"
      ],
      "execution_count": null,
      "outputs": [
        {
          "output_type": "stream",
          "text": [
            "exemplo de dado antes do procesamento: [  0   0   0   0   0   0   0   0   0   0   0   0   6   0 102 204 176 134\n",
            " 144 123  23   0   0   0   0  12  10   0]\n",
            "exemplo de dado após o procesamento: [0.         0.         0.         0.         0.         0.\n",
            " 0.         0.         0.         0.         0.         0.\n",
            " 0.02352941 0.         0.4        0.8        0.69019608 0.5254902\n",
            " 0.56470588 0.48235294 0.09019608 0.         0.         0.\n",
            " 0.         0.04705882 0.03921569 0.        ]\n"
          ],
          "name": "stdout"
        }
      ]
    },
    {
      "cell_type": "code",
      "metadata": {
        "colab": {
          "base_uri": "https://localhost:8080/",
          "height": 589
        },
        "id": "xYTWn_HU0ZWt",
        "outputId": "ed9725aa-a658-4fb7-d0a4-816a5226cb3f"
      },
      "source": [
        "plt.figure(figsize=(10,10))\n",
        "for i in range(25):\n",
        "    plt.subplot(5,5,i+1)\n",
        "    plt.xticks([])   # retira as marcações de x e y \n",
        "    plt.yticks([])\n",
        "    plt.grid(False)  # retira as linhas do grid\n",
        "    plt.imshow(train_images[i], cmap=plt.cm.binary)\n",
        "    plt.xlabel(class_names[train_labels[i]])   # adiciona os nomes das classes (nomes dos digitos)\n",
        "plt.show()"
      ],
      "execution_count": null,
      "outputs": [
        {
          "output_type": "display_data",
          "data": {
            "image/png": "[encoded data removed]",
            "text/plain": [
              "<Figure size 720x720 with 25 Axes>"
            ]
          },
          "metadata": {
            "tags": []
          }
        }
      ]
    },
    {
      "cell_type": "markdown",
      "metadata": {
        "id": "9rEPuqk_ZMx5"
      },
      "source": [
        "**Camada da Rede Neural**"
      ]
    },
    {
      "cell_type": "code",
      "metadata": {
        "id": "wobpsYjbLaGq"
      },
      "source": [
        "# cria a variável modelo e atribui a ela uma rede neural\n",
        "model = keras.Sequential([\n",
        "    # essa camada transforma os dados do formato 28x28 para 784,1\n",
        "    keras.layers.Flatten(input_shape=(28, 28)),\n",
        "    # essa camada tem 128 neurônios \n",
        "    keras.layers.Dense(200, activation='relu'),  # NESSA LINHA  [altere o 128 para valores como: 10 ou 20 ou 60 ou 300\n",
        "    keras.layers.Dense(200, activation='relu'),\n",
        "    # essa tem 10 neurônios, é obrigatório manter 10 porque é exatamente o mesmo número de classes que existe\n",
        "    keras.layers.Dense(10, activation='softmax')\n",
        "])"
      ],
      "execution_count": null,
      "outputs": []
    },
    {
      "cell_type": "markdown",
      "metadata": {
        "id": "F09mHDBmaYN2"
      },
      "source": [
        "**Gerar Modelo**"
      ]
    },
    {
      "cell_type": "code",
      "metadata": {
        "id": "WcLbEzuVaJbo"
      },
      "source": [
        "# agora é necessário 'compilar' (fazer a rede se montar) o modelo\n",
        "model.compile(optimizer='adam',\n",
        "              loss='sparse_categorical_crossentropy',\n",
        "              metrics=['accuracy'])"
      ],
      "execution_count": null,
      "outputs": []
    },
    {
      "cell_type": "markdown",
      "metadata": {
        "id": "kKfR04lkah96"
      },
      "source": [
        "**Treinar o modelo**"
      ]
    },
    {
      "cell_type": "code",
      "metadata": {
        "id": "hw2jsrFTak1P",
        "colab": {
          "base_uri": "https://localhost:8080/"
        },
        "outputId": "0604cbb5-184e-4334-ec3f-8456b788588d"
      },
      "source": [
        "# treinamento o modelo (é o mesmo método utilizado no scikit-learn)\n",
        "model.fit(train_images, train_labels, epochs=20)"
      ],
      "execution_count": null,
      "outputs": [
        {
          "output_type": "stream",
          "text": [
            "Epoch 1/20\n",
            "1875/1875 [==============================] - 7s 4ms/step - loss: 0.5956 - accuracy: 0.7863\n",
            "Epoch 2/20\n",
            "1875/1875 [==============================] - 7s 4ms/step - loss: 0.3675 - accuracy: 0.8646\n",
            "Epoch 3/20\n",
            "1875/1875 [==============================] - 7s 4ms/step - loss: 0.3302 - accuracy: 0.8784\n",
            "Epoch 4/20\n",
            "1875/1875 [==============================] - 7s 4ms/step - loss: 0.3003 - accuracy: 0.8875\n",
            "Epoch 5/20\n",
            "1875/1875 [==============================] - 7s 4ms/step - loss: 0.2796 - accuracy: 0.8951\n",
            "Epoch 6/20\n",
            "1875/1875 [==============================] - 7s 4ms/step - loss: 0.2673 - accuracy: 0.9000\n",
            "Epoch 7/20\n",
            "1875/1875 [==============================] - 7s 4ms/step - loss: 0.2563 - accuracy: 0.9037\n",
            "Epoch 8/20\n",
            "1875/1875 [==============================] - 7s 4ms/step - loss: 0.2438 - accuracy: 0.9085\n",
            "Epoch 9/20\n",
            "1875/1875 [==============================] - 6s 3ms/step - loss: 0.2350 - accuracy: 0.9109\n",
            "Epoch 10/20\n",
            "1875/1875 [==============================] - 7s 4ms/step - loss: 0.2230 - accuracy: 0.9152\n",
            "Epoch 11/20\n",
            "1875/1875 [==============================] - 7s 4ms/step - loss: 0.2146 - accuracy: 0.9189\n",
            "Epoch 12/20\n",
            "1875/1875 [==============================] - 8s 4ms/step - loss: 0.2104 - accuracy: 0.9190\n",
            "Epoch 13/20\n",
            "1875/1875 [==============================] - 7s 4ms/step - loss: 0.1997 - accuracy: 0.9227\n",
            "Epoch 14/20\n",
            "1875/1875 [==============================] - 7s 4ms/step - loss: 0.1906 - accuracy: 0.9250\n",
            "Epoch 15/20\n",
            "1875/1875 [==============================] - 7s 4ms/step - loss: 0.1835 - accuracy: 0.9290\n",
            "Epoch 16/20\n",
            "1875/1875 [==============================] - 7s 4ms/step - loss: 0.1779 - accuracy: 0.9314\n",
            "Epoch 17/20\n",
            "1875/1875 [==============================] - 6s 3ms/step - loss: 0.1765 - accuracy: 0.9316\n",
            "Epoch 18/20\n",
            "1875/1875 [==============================] - 7s 4ms/step - loss: 0.1665 - accuracy: 0.9352\n",
            "Epoch 19/20\n",
            "1875/1875 [==============================] - 7s 4ms/step - loss: 0.1645 - accuracy: 0.9357\n",
            "Epoch 20/20\n",
            "1875/1875 [==============================] - 7s 4ms/step - loss: 0.1550 - accuracy: 0.9392\n"
          ],
          "name": "stdout"
        },
        {
          "output_type": "execute_result",
          "data": {
            "text/plain": [
              "<tensorflow.python.keras.callbacks.History at 0x7f805fe1de10>"
            ]
          },
          "metadata": {
            "tags": []
          },
          "execution_count": 85
        }
      ]
    },
    {
      "cell_type": "markdown",
      "metadata": {
        "id": "BmLrS71rbIj-"
      },
      "source": [
        "\n",
        "\n",
        "**Resultado de acurácia**"
      ]
    },
    {
      "cell_type": "code",
      "metadata": {
        "id": "05IxgGT6bEUb",
        "colab": {
          "base_uri": "https://localhost:8080/"
        },
        "outputId": "2cf85189-9d2c-492a-f848-65cce5f2ffac"
      },
      "source": [
        "test_loss, test_acc = model.evaluate(test_images,  test_labels, verbose=2)\n",
        "\n",
        "print(f\"Acurácia do conjunto de teste: {test_acc}\")"
      ],
      "execution_count": null,
      "outputs": [
        {
          "output_type": "stream",
          "text": [
            "313/313 - 0s - loss: 0.4291 - accuracy: 0.8866\n",
            "Acurácia do conjunto de teste: 0.8866000175476074\n"
          ],
          "name": "stdout"
        }
      ]
    },
    {
      "cell_type": "markdown",
      "metadata": {
        "id": "WwEDed3XE1Y-"
      },
      "source": [
        "**Fazendo a Predição**"
      ]
    },
    {
      "cell_type": "code",
      "metadata": {
        "id": "KvSv4-PJGD3S"
      },
      "source": [
        "# comando para predizer\n",
        "predictions = model.predict(test_images)"
      ],
      "execution_count": null,
      "outputs": []
    },
    {
      "cell_type": "code",
      "metadata": {
        "id": "6ShtXqjUFPbJ",
        "colab": {
          "base_uri": "https://localhost:8080/"
        },
        "outputId": "43323d94-bc5d-4203-addc-49a1c22bc5d8"
      },
      "source": [
        "print(f\"predições de exemplo: {predictions[0]}\")"
      ],
      "execution_count": null,
      "outputs": [
        {
          "output_type": "stream",
          "text": [
            "predições de exemplo: [7.0216994e-15 1.0595630e-17 2.6063273e-17 2.9262071e-16 1.1380746e-14\n",
            " 8.0804330e-07 2.3922686e-15 3.7306167e-05 3.9572354e-15 9.9996185e-01]\n"
          ],
          "name": "stdout"
        }
      ]
    },
    {
      "cell_type": "code",
      "metadata": {
        "colab": {
          "base_uri": "https://localhost:8080/"
        },
        "id": "r6R2CEIb4Bv5",
        "outputId": "30ba56dd-514a-48f9-d8ef-31842efe9e24"
      },
      "source": [
        "np.argmax(predictions[0])"
      ],
      "execution_count": null,
      "outputs": [
        {
          "output_type": "execute_result",
          "data": {
            "text/plain": [
              "9"
            ]
          },
          "metadata": {
            "tags": []
          },
          "execution_count": 77
        }
      ]
    },
    {
      "cell_type": "code",
      "metadata": {
        "colab": {
          "base_uri": "https://localhost:8080/"
        },
        "id": "OGezgTaB4DW-",
        "outputId": "d08919cc-6297-4070-9b2f-eb20a4441107"
      },
      "source": [
        "test_labels[0]"
      ],
      "execution_count": null,
      "outputs": [
        {
          "output_type": "execute_result",
          "data": {
            "text/plain": [
              "9"
            ]
          },
          "metadata": {
            "tags": []
          },
          "execution_count": 78
        }
      ]
    },
    {
      "cell_type": "code",
      "metadata": {
        "id": "rKY3rlbQE67r"
      },
      "source": [
        "# um exemplo com mais plots de uma só vez\n",
        "# predições corretas em azul e as incorretas de vermelho\n",
        "\n",
        "def plot_image(i, predictions_array, true_label, img):\n",
        "  predictions_array, true_label, img = predictions_array[i], true_label[i], img[i]\n",
        "  plt.grid(False)\n",
        "  plt.xticks([])\n",
        "  plt.yticks([])\n",
        "\n",
        "  plt.imshow(img, cmap=plt.cm.binary)\n",
        "\n",
        "  predicted_label = np.argmax(predictions_array)\n",
        "  if predicted_label == true_label:\n",
        "    color = 'blue'\n",
        "  else:\n",
        "    color = 'red'\n",
        "\n",
        "  plt.xlabel(\"{} {:2.0f}% ({})\".format(class_names[predicted_label],\n",
        "                                100*np.max(predictions_array),\n",
        "                                class_names[true_label]),\n",
        "                                color=color)\n",
        "\n",
        "# função para plotar um gráfico em barras com os valores preditos (saída y do modelo)\n",
        "def plot_value_array(i, predictions_array, true_label):\n",
        "  predictions_array, true_label = predictions_array[i], true_label[i]\n",
        "  plt.grid(False)\n",
        "  plt.xticks([])\n",
        "  plt.yticks([])\n",
        "  thisplot = plt.bar(range(10), predictions_array, color=\"#777777\")\n",
        "  plt.ylim([0, 1])\n",
        "  predicted_label = np.argmax(predictions_array)\n",
        "\n",
        "  thisplot[predicted_label].set_color('red')\n",
        "  thisplot[true_label].set_color('blue')"
      ],
      "execution_count": null,
      "outputs": []
    },
    {
      "cell_type": "code",
      "metadata": {
        "colab": {
          "base_uri": "https://localhost:8080/",
          "height": 480
        },
        "id": "7IQUQU8z4RwU",
        "outputId": "30f8a2a3-f242-4884-95de-8d12a6ab9318"
      },
      "source": [
        "num_rows = 4\n",
        "num_cols = 3\n",
        "num_images = num_rows*num_cols\n",
        "\n",
        "plt.figure(figsize=(2*2*num_cols, 2*num_rows))\n",
        "for i in range(num_images):\n",
        "  plt.subplot(num_rows, 2*num_cols, 2*i+1)\n",
        "  plot_image(i, predictions, test_labels, test_images)\n",
        "  plt.subplot(num_rows, 2*num_cols, 2*i+2)\n",
        "  plot_value_array(i, predictions, test_labels)\n",
        "plt.show()"
      ],
      "execution_count": null,
      "outputs": [
        {
          "output_type": "display_data",
          "data": {
            "image/png": "[encoded data removed]",
            "text/plain": [
              "<Figure size 864x576 with 24 Axes>"
            ]
          },
          "metadata": {
            "tags": []
          }
        }
      ]
    },
    {
      "cell_type": "code",
      "metadata": {
        "colab": {
          "base_uri": "https://localhost:8080/",
          "height": 203
        },
        "id": "-ejxHitr4o6f",
        "outputId": "455313b8-75ff-432b-ebc9-aac9c47e5517"
      },
      "source": [
        "i = 51\n",
        "plt.figure(figsize=(6,3))\n",
        "plt.subplot(1,2,1)\n",
        "plot_image(i, predictions, test_labels, test_images)\n",
        "plt.subplot(1,2,2)\n",
        "plot_value_array(i, predictions,  test_labels)\n",
        "plt.show()"
      ],
      "execution_count": null,
      "outputs": [
        {
          "output_type": "display_data",
          "data": {
            "image/png": "[encoded data removed]",
            "text/plain": [
              "<Figure size 432x216 with 2 Axes>"
            ]
          },
          "metadata": {
            "tags": []
          }
        }
      ]
    },
    {
      "cell_type": "code",
      "metadata": {
        "colab": {
          "base_uri": "https://localhost:8080/",
          "height": 203
        },
        "id": "2D16QVUD400T",
        "outputId": "264b6d49-709f-43ae-b432-eb2729d8f8ee"
      },
      "source": [
        "i = 0\n",
        "plt.figure(figsize=(6,3))\n",
        "plt.subplot(1,2,1)\n",
        "plot_image(i, predictions, test_labels, test_images)\n",
        "plt.subplot(1,2,2)\n",
        "plot_value_array(i, predictions,  test_labels)\n",
        "plt.show()"
      ],
      "execution_count": null,
      "outputs": [
        {
          "output_type": "display_data",
          "data": {
            "image/png": "[encoded data removed]",
            "text/plain": [
              "<Figure size 432x216 with 2 Axes>"
            ]
          },
          "metadata": {
            "tags": []
          }
        }
      ]
    }
  ]
}